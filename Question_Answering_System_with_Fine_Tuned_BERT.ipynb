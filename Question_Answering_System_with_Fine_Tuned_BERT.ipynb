{
  "nbformat": 4,
  "nbformat_minor": 0,
  "metadata": {
    "colab": {
      "provenance": [],
      "gpuType": "T4",
      "toc_visible": true,
      "authorship_tag": "ABX9TyPvox2uZXgBlw+7k2sK7w/I",
      "include_colab_link": true
    },
    "kernelspec": {
      "name": "python3",
      "display_name": "Python 3"
    },
    "language_info": {
      "name": "python"
    },
    "accelerator": "GPU",
    "widgets": {
      "application/vnd.jupyter.widget-state+json": {
        "280216ce7cbe434d87fb2cc44bca0a99": {
          "model_module": "@jupyter-widgets/controls",
          "model_name": "HBoxModel",
          "model_module_version": "1.5.0",
          "state": {
            "_dom_classes": [],
            "_model_module": "@jupyter-widgets/controls",
            "_model_module_version": "1.5.0",
            "_model_name": "HBoxModel",
            "_view_count": null,
            "_view_module": "@jupyter-widgets/controls",
            "_view_module_version": "1.5.0",
            "_view_name": "HBoxView",
            "box_style": "",
            "children": [
              "IPY_MODEL_3d5e7036ab53464a841c41bd6ca38b4d",
              "IPY_MODEL_911de7248c764c05a2b4f3f4c8570162",
              "IPY_MODEL_a7c0a163fd93464782662ae4e07a09f6"
            ],
            "layout": "IPY_MODEL_87167738812f44dfa8e500540b3c6699"
          }
        },
        "3d5e7036ab53464a841c41bd6ca38b4d": {
          "model_module": "@jupyter-widgets/controls",
          "model_name": "HTMLModel",
          "model_module_version": "1.5.0",
          "state": {
            "_dom_classes": [],
            "_model_module": "@jupyter-widgets/controls",
            "_model_module_version": "1.5.0",
            "_model_name": "HTMLModel",
            "_view_count": null,
            "_view_module": "@jupyter-widgets/controls",
            "_view_module_version": "1.5.0",
            "_view_name": "HTMLView",
            "description": "",
            "description_tooltip": null,
            "layout": "IPY_MODEL_cd33b7f1736543a99574fca5cb346d25",
            "placeholder": "​",
            "style": "IPY_MODEL_aada72218df2488b9494e8836ab6a759",
            "value": "config.json: 100%"
          }
        },
        "911de7248c764c05a2b4f3f4c8570162": {
          "model_module": "@jupyter-widgets/controls",
          "model_name": "FloatProgressModel",
          "model_module_version": "1.5.0",
          "state": {
            "_dom_classes": [],
            "_model_module": "@jupyter-widgets/controls",
            "_model_module_version": "1.5.0",
            "_model_name": "FloatProgressModel",
            "_view_count": null,
            "_view_module": "@jupyter-widgets/controls",
            "_view_module_version": "1.5.0",
            "_view_name": "ProgressView",
            "bar_style": "success",
            "description": "",
            "description_tooltip": null,
            "layout": "IPY_MODEL_f36b92d7ae8b4d778ffcd6546f1ed35e",
            "max": 443,
            "min": 0,
            "orientation": "horizontal",
            "style": "IPY_MODEL_74a26ac8b54d4eee98afd03713b2b07a",
            "value": 443
          }
        },
        "a7c0a163fd93464782662ae4e07a09f6": {
          "model_module": "@jupyter-widgets/controls",
          "model_name": "HTMLModel",
          "model_module_version": "1.5.0",
          "state": {
            "_dom_classes": [],
            "_model_module": "@jupyter-widgets/controls",
            "_model_module_version": "1.5.0",
            "_model_name": "HTMLModel",
            "_view_count": null,
            "_view_module": "@jupyter-widgets/controls",
            "_view_module_version": "1.5.0",
            "_view_name": "HTMLView",
            "description": "",
            "description_tooltip": null,
            "layout": "IPY_MODEL_169a94f694274a7dabb04da6316b4d5b",
            "placeholder": "​",
            "style": "IPY_MODEL_b7cce29a252a4a4bb5dbc406891c5deb",
            "value": " 443/443 [00:00&lt;00:00, 10.7kB/s]"
          }
        },
        "87167738812f44dfa8e500540b3c6699": {
          "model_module": "@jupyter-widgets/base",
          "model_name": "LayoutModel",
          "model_module_version": "1.2.0",
          "state": {
            "_model_module": "@jupyter-widgets/base",
            "_model_module_version": "1.2.0",
            "_model_name": "LayoutModel",
            "_view_count": null,
            "_view_module": "@jupyter-widgets/base",
            "_view_module_version": "1.2.0",
            "_view_name": "LayoutView",
            "align_content": null,
            "align_items": null,
            "align_self": null,
            "border": null,
            "bottom": null,
            "display": null,
            "flex": null,
            "flex_flow": null,
            "grid_area": null,
            "grid_auto_columns": null,
            "grid_auto_flow": null,
            "grid_auto_rows": null,
            "grid_column": null,
            "grid_gap": null,
            "grid_row": null,
            "grid_template_areas": null,
            "grid_template_columns": null,
            "grid_template_rows": null,
            "height": null,
            "justify_content": null,
            "justify_items": null,
            "left": null,
            "margin": null,
            "max_height": null,
            "max_width": null,
            "min_height": null,
            "min_width": null,
            "object_fit": null,
            "object_position": null,
            "order": null,
            "overflow": null,
            "overflow_x": null,
            "overflow_y": null,
            "padding": null,
            "right": null,
            "top": null,
            "visibility": null,
            "width": null
          }
        },
        "cd33b7f1736543a99574fca5cb346d25": {
          "model_module": "@jupyter-widgets/base",
          "model_name": "LayoutModel",
          "model_module_version": "1.2.0",
          "state": {
            "_model_module": "@jupyter-widgets/base",
            "_model_module_version": "1.2.0",
            "_model_name": "LayoutModel",
            "_view_count": null,
            "_view_module": "@jupyter-widgets/base",
            "_view_module_version": "1.2.0",
            "_view_name": "LayoutView",
            "align_content": null,
            "align_items": null,
            "align_self": null,
            "border": null,
            "bottom": null,
            "display": null,
            "flex": null,
            "flex_flow": null,
            "grid_area": null,
            "grid_auto_columns": null,
            "grid_auto_flow": null,
            "grid_auto_rows": null,
            "grid_column": null,
            "grid_gap": null,
            "grid_row": null,
            "grid_template_areas": null,
            "grid_template_columns": null,
            "grid_template_rows": null,
            "height": null,
            "justify_content": null,
            "justify_items": null,
            "left": null,
            "margin": null,
            "max_height": null,
            "max_width": null,
            "min_height": null,
            "min_width": null,
            "object_fit": null,
            "object_position": null,
            "order": null,
            "overflow": null,
            "overflow_x": null,
            "overflow_y": null,
            "padding": null,
            "right": null,
            "top": null,
            "visibility": null,
            "width": null
          }
        },
        "aada72218df2488b9494e8836ab6a759": {
          "model_module": "@jupyter-widgets/controls",
          "model_name": "DescriptionStyleModel",
          "model_module_version": "1.5.0",
          "state": {
            "_model_module": "@jupyter-widgets/controls",
            "_model_module_version": "1.5.0",
            "_model_name": "DescriptionStyleModel",
            "_view_count": null,
            "_view_module": "@jupyter-widgets/base",
            "_view_module_version": "1.2.0",
            "_view_name": "StyleView",
            "description_width": ""
          }
        },
        "f36b92d7ae8b4d778ffcd6546f1ed35e": {
          "model_module": "@jupyter-widgets/base",
          "model_name": "LayoutModel",
          "model_module_version": "1.2.0",
          "state": {
            "_model_module": "@jupyter-widgets/base",
            "_model_module_version": "1.2.0",
            "_model_name": "LayoutModel",
            "_view_count": null,
            "_view_module": "@jupyter-widgets/base",
            "_view_module_version": "1.2.0",
            "_view_name": "LayoutView",
            "align_content": null,
            "align_items": null,
            "align_self": null,
            "border": null,
            "bottom": null,
            "display": null,
            "flex": null,
            "flex_flow": null,
            "grid_area": null,
            "grid_auto_columns": null,
            "grid_auto_flow": null,
            "grid_auto_rows": null,
            "grid_column": null,
            "grid_gap": null,
            "grid_row": null,
            "grid_template_areas": null,
            "grid_template_columns": null,
            "grid_template_rows": null,
            "height": null,
            "justify_content": null,
            "justify_items": null,
            "left": null,
            "margin": null,
            "max_height": null,
            "max_width": null,
            "min_height": null,
            "min_width": null,
            "object_fit": null,
            "object_position": null,
            "order": null,
            "overflow": null,
            "overflow_x": null,
            "overflow_y": null,
            "padding": null,
            "right": null,
            "top": null,
            "visibility": null,
            "width": null
          }
        },
        "74a26ac8b54d4eee98afd03713b2b07a": {
          "model_module": "@jupyter-widgets/controls",
          "model_name": "ProgressStyleModel",
          "model_module_version": "1.5.0",
          "state": {
            "_model_module": "@jupyter-widgets/controls",
            "_model_module_version": "1.5.0",
            "_model_name": "ProgressStyleModel",
            "_view_count": null,
            "_view_module": "@jupyter-widgets/base",
            "_view_module_version": "1.2.0",
            "_view_name": "StyleView",
            "bar_color": null,
            "description_width": ""
          }
        },
        "169a94f694274a7dabb04da6316b4d5b": {
          "model_module": "@jupyter-widgets/base",
          "model_name": "LayoutModel",
          "model_module_version": "1.2.0",
          "state": {
            "_model_module": "@jupyter-widgets/base",
            "_model_module_version": "1.2.0",
            "_model_name": "LayoutModel",
            "_view_count": null,
            "_view_module": "@jupyter-widgets/base",
            "_view_module_version": "1.2.0",
            "_view_name": "LayoutView",
            "align_content": null,
            "align_items": null,
            "align_self": null,
            "border": null,
            "bottom": null,
            "display": null,
            "flex": null,
            "flex_flow": null,
            "grid_area": null,
            "grid_auto_columns": null,
            "grid_auto_flow": null,
            "grid_auto_rows": null,
            "grid_column": null,
            "grid_gap": null,
            "grid_row": null,
            "grid_template_areas": null,
            "grid_template_columns": null,
            "grid_template_rows": null,
            "height": null,
            "justify_content": null,
            "justify_items": null,
            "left": null,
            "margin": null,
            "max_height": null,
            "max_width": null,
            "min_height": null,
            "min_width": null,
            "object_fit": null,
            "object_position": null,
            "order": null,
            "overflow": null,
            "overflow_x": null,
            "overflow_y": null,
            "padding": null,
            "right": null,
            "top": null,
            "visibility": null,
            "width": null
          }
        },
        "b7cce29a252a4a4bb5dbc406891c5deb": {
          "model_module": "@jupyter-widgets/controls",
          "model_name": "DescriptionStyleModel",
          "model_module_version": "1.5.0",
          "state": {
            "_model_module": "@jupyter-widgets/controls",
            "_model_module_version": "1.5.0",
            "_model_name": "DescriptionStyleModel",
            "_view_count": null,
            "_view_module": "@jupyter-widgets/base",
            "_view_module_version": "1.2.0",
            "_view_name": "StyleView",
            "description_width": ""
          }
        },
        "6376bb22503b401a985e2eab23bb3164": {
          "model_module": "@jupyter-widgets/controls",
          "model_name": "HBoxModel",
          "model_module_version": "1.5.0",
          "state": {
            "_dom_classes": [],
            "_model_module": "@jupyter-widgets/controls",
            "_model_module_version": "1.5.0",
            "_model_name": "HBoxModel",
            "_view_count": null,
            "_view_module": "@jupyter-widgets/controls",
            "_view_module_version": "1.5.0",
            "_view_name": "HBoxView",
            "box_style": "",
            "children": [
              "IPY_MODEL_80127be881b64002ae2e61efc99e828c",
              "IPY_MODEL_ce6600bc9bc44a87a6995f7ad175dc5e",
              "IPY_MODEL_d081378606a84daba0c7f24500d9afe0"
            ],
            "layout": "IPY_MODEL_81ecb3a5bff94c45895fb5d2cd081756"
          }
        },
        "80127be881b64002ae2e61efc99e828c": {
          "model_module": "@jupyter-widgets/controls",
          "model_name": "HTMLModel",
          "model_module_version": "1.5.0",
          "state": {
            "_dom_classes": [],
            "_model_module": "@jupyter-widgets/controls",
            "_model_module_version": "1.5.0",
            "_model_name": "HTMLModel",
            "_view_count": null,
            "_view_module": "@jupyter-widgets/controls",
            "_view_module_version": "1.5.0",
            "_view_name": "HTMLView",
            "description": "",
            "description_tooltip": null,
            "layout": "IPY_MODEL_e57ebc0fb6f6468ba9f752381a070621",
            "placeholder": "​",
            "style": "IPY_MODEL_aaf71aa8957340f5ab53c3c39d2f8dba",
            "value": "model.safetensors: 100%"
          }
        },
        "ce6600bc9bc44a87a6995f7ad175dc5e": {
          "model_module": "@jupyter-widgets/controls",
          "model_name": "FloatProgressModel",
          "model_module_version": "1.5.0",
          "state": {
            "_dom_classes": [],
            "_model_module": "@jupyter-widgets/controls",
            "_model_module_version": "1.5.0",
            "_model_name": "FloatProgressModel",
            "_view_count": null,
            "_view_module": "@jupyter-widgets/controls",
            "_view_module_version": "1.5.0",
            "_view_name": "ProgressView",
            "bar_style": "success",
            "description": "",
            "description_tooltip": null,
            "layout": "IPY_MODEL_a512fe1815c14176be73b18ae61e912d",
            "max": 1340622760,
            "min": 0,
            "orientation": "horizontal",
            "style": "IPY_MODEL_6f7a7ffeb80d4eb8a8e43016cc721ad3",
            "value": 1340622760
          }
        },
        "d081378606a84daba0c7f24500d9afe0": {
          "model_module": "@jupyter-widgets/controls",
          "model_name": "HTMLModel",
          "model_module_version": "1.5.0",
          "state": {
            "_dom_classes": [],
            "_model_module": "@jupyter-widgets/controls",
            "_model_module_version": "1.5.0",
            "_model_name": "HTMLModel",
            "_view_count": null,
            "_view_module": "@jupyter-widgets/controls",
            "_view_module_version": "1.5.0",
            "_view_name": "HTMLView",
            "description": "",
            "description_tooltip": null,
            "layout": "IPY_MODEL_e5736c54d2aa4fe990ce09e0c519bd0f",
            "placeholder": "​",
            "style": "IPY_MODEL_dc03bc673a55468e9aa13810daa25cf3",
            "value": " 1.34G/1.34G [00:14&lt;00:00, 107MB/s]"
          }
        },
        "81ecb3a5bff94c45895fb5d2cd081756": {
          "model_module": "@jupyter-widgets/base",
          "model_name": "LayoutModel",
          "model_module_version": "1.2.0",
          "state": {
            "_model_module": "@jupyter-widgets/base",
            "_model_module_version": "1.2.0",
            "_model_name": "LayoutModel",
            "_view_count": null,
            "_view_module": "@jupyter-widgets/base",
            "_view_module_version": "1.2.0",
            "_view_name": "LayoutView",
            "align_content": null,
            "align_items": null,
            "align_self": null,
            "border": null,
            "bottom": null,
            "display": null,
            "flex": null,
            "flex_flow": null,
            "grid_area": null,
            "grid_auto_columns": null,
            "grid_auto_flow": null,
            "grid_auto_rows": null,
            "grid_column": null,
            "grid_gap": null,
            "grid_row": null,
            "grid_template_areas": null,
            "grid_template_columns": null,
            "grid_template_rows": null,
            "height": null,
            "justify_content": null,
            "justify_items": null,
            "left": null,
            "margin": null,
            "max_height": null,
            "max_width": null,
            "min_height": null,
            "min_width": null,
            "object_fit": null,
            "object_position": null,
            "order": null,
            "overflow": null,
            "overflow_x": null,
            "overflow_y": null,
            "padding": null,
            "right": null,
            "top": null,
            "visibility": null,
            "width": null
          }
        },
        "e57ebc0fb6f6468ba9f752381a070621": {
          "model_module": "@jupyter-widgets/base",
          "model_name": "LayoutModel",
          "model_module_version": "1.2.0",
          "state": {
            "_model_module": "@jupyter-widgets/base",
            "_model_module_version": "1.2.0",
            "_model_name": "LayoutModel",
            "_view_count": null,
            "_view_module": "@jupyter-widgets/base",
            "_view_module_version": "1.2.0",
            "_view_name": "LayoutView",
            "align_content": null,
            "align_items": null,
            "align_self": null,
            "border": null,
            "bottom": null,
            "display": null,
            "flex": null,
            "flex_flow": null,
            "grid_area": null,
            "grid_auto_columns": null,
            "grid_auto_flow": null,
            "grid_auto_rows": null,
            "grid_column": null,
            "grid_gap": null,
            "grid_row": null,
            "grid_template_areas": null,
            "grid_template_columns": null,
            "grid_template_rows": null,
            "height": null,
            "justify_content": null,
            "justify_items": null,
            "left": null,
            "margin": null,
            "max_height": null,
            "max_width": null,
            "min_height": null,
            "min_width": null,
            "object_fit": null,
            "object_position": null,
            "order": null,
            "overflow": null,
            "overflow_x": null,
            "overflow_y": null,
            "padding": null,
            "right": null,
            "top": null,
            "visibility": null,
            "width": null
          }
        },
        "aaf71aa8957340f5ab53c3c39d2f8dba": {
          "model_module": "@jupyter-widgets/controls",
          "model_name": "DescriptionStyleModel",
          "model_module_version": "1.5.0",
          "state": {
            "_model_module": "@jupyter-widgets/controls",
            "_model_module_version": "1.5.0",
            "_model_name": "DescriptionStyleModel",
            "_view_count": null,
            "_view_module": "@jupyter-widgets/base",
            "_view_module_version": "1.2.0",
            "_view_name": "StyleView",
            "description_width": ""
          }
        },
        "a512fe1815c14176be73b18ae61e912d": {
          "model_module": "@jupyter-widgets/base",
          "model_name": "LayoutModel",
          "model_module_version": "1.2.0",
          "state": {
            "_model_module": "@jupyter-widgets/base",
            "_model_module_version": "1.2.0",
            "_model_name": "LayoutModel",
            "_view_count": null,
            "_view_module": "@jupyter-widgets/base",
            "_view_module_version": "1.2.0",
            "_view_name": "LayoutView",
            "align_content": null,
            "align_items": null,
            "align_self": null,
            "border": null,
            "bottom": null,
            "display": null,
            "flex": null,
            "flex_flow": null,
            "grid_area": null,
            "grid_auto_columns": null,
            "grid_auto_flow": null,
            "grid_auto_rows": null,
            "grid_column": null,
            "grid_gap": null,
            "grid_row": null,
            "grid_template_areas": null,
            "grid_template_columns": null,
            "grid_template_rows": null,
            "height": null,
            "justify_content": null,
            "justify_items": null,
            "left": null,
            "margin": null,
            "max_height": null,
            "max_width": null,
            "min_height": null,
            "min_width": null,
            "object_fit": null,
            "object_position": null,
            "order": null,
            "overflow": null,
            "overflow_x": null,
            "overflow_y": null,
            "padding": null,
            "right": null,
            "top": null,
            "visibility": null,
            "width": null
          }
        },
        "6f7a7ffeb80d4eb8a8e43016cc721ad3": {
          "model_module": "@jupyter-widgets/controls",
          "model_name": "ProgressStyleModel",
          "model_module_version": "1.5.0",
          "state": {
            "_model_module": "@jupyter-widgets/controls",
            "_model_module_version": "1.5.0",
            "_model_name": "ProgressStyleModel",
            "_view_count": null,
            "_view_module": "@jupyter-widgets/base",
            "_view_module_version": "1.2.0",
            "_view_name": "StyleView",
            "bar_color": null,
            "description_width": ""
          }
        },
        "e5736c54d2aa4fe990ce09e0c519bd0f": {
          "model_module": "@jupyter-widgets/base",
          "model_name": "LayoutModel",
          "model_module_version": "1.2.0",
          "state": {
            "_model_module": "@jupyter-widgets/base",
            "_model_module_version": "1.2.0",
            "_model_name": "LayoutModel",
            "_view_count": null,
            "_view_module": "@jupyter-widgets/base",
            "_view_module_version": "1.2.0",
            "_view_name": "LayoutView",
            "align_content": null,
            "align_items": null,
            "align_self": null,
            "border": null,
            "bottom": null,
            "display": null,
            "flex": null,
            "flex_flow": null,
            "grid_area": null,
            "grid_auto_columns": null,
            "grid_auto_flow": null,
            "grid_auto_rows": null,
            "grid_column": null,
            "grid_gap": null,
            "grid_row": null,
            "grid_template_areas": null,
            "grid_template_columns": null,
            "grid_template_rows": null,
            "height": null,
            "justify_content": null,
            "justify_items": null,
            "left": null,
            "margin": null,
            "max_height": null,
            "max_width": null,
            "min_height": null,
            "min_width": null,
            "object_fit": null,
            "object_position": null,
            "order": null,
            "overflow": null,
            "overflow_x": null,
            "overflow_y": null,
            "padding": null,
            "right": null,
            "top": null,
            "visibility": null,
            "width": null
          }
        },
        "dc03bc673a55468e9aa13810daa25cf3": {
          "model_module": "@jupyter-widgets/controls",
          "model_name": "DescriptionStyleModel",
          "model_module_version": "1.5.0",
          "state": {
            "_model_module": "@jupyter-widgets/controls",
            "_model_module_version": "1.5.0",
            "_model_name": "DescriptionStyleModel",
            "_view_count": null,
            "_view_module": "@jupyter-widgets/base",
            "_view_module_version": "1.2.0",
            "_view_name": "StyleView",
            "description_width": ""
          }
        },
        "592b8598aa0e4e8bb1309504060d057e": {
          "model_module": "@jupyter-widgets/controls",
          "model_name": "HBoxModel",
          "model_module_version": "1.5.0",
          "state": {
            "_dom_classes": [],
            "_model_module": "@jupyter-widgets/controls",
            "_model_module_version": "1.5.0",
            "_model_name": "HBoxModel",
            "_view_count": null,
            "_view_module": "@jupyter-widgets/controls",
            "_view_module_version": "1.5.0",
            "_view_name": "HBoxView",
            "box_style": "",
            "children": [
              "IPY_MODEL_e6bc1d74509c476cb20b63d71df40d13",
              "IPY_MODEL_d9d07d02b4ed42d79e21df6d1de5f69d",
              "IPY_MODEL_914eadb7352d40748211d333cf6a5f78"
            ],
            "layout": "IPY_MODEL_d3b1721f11af46408a95602cfb6aa21a"
          }
        },
        "e6bc1d74509c476cb20b63d71df40d13": {
          "model_module": "@jupyter-widgets/controls",
          "model_name": "HTMLModel",
          "model_module_version": "1.5.0",
          "state": {
            "_dom_classes": [],
            "_model_module": "@jupyter-widgets/controls",
            "_model_module_version": "1.5.0",
            "_model_name": "HTMLModel",
            "_view_count": null,
            "_view_module": "@jupyter-widgets/controls",
            "_view_module_version": "1.5.0",
            "_view_name": "HTMLView",
            "description": "",
            "description_tooltip": null,
            "layout": "IPY_MODEL_89f46fb00b774923b251e95801cf1276",
            "placeholder": "​",
            "style": "IPY_MODEL_7458632ff928457d88763abf0f889df7",
            "value": "tokenizer_config.json: 100%"
          }
        },
        "d9d07d02b4ed42d79e21df6d1de5f69d": {
          "model_module": "@jupyter-widgets/controls",
          "model_name": "FloatProgressModel",
          "model_module_version": "1.5.0",
          "state": {
            "_dom_classes": [],
            "_model_module": "@jupyter-widgets/controls",
            "_model_module_version": "1.5.0",
            "_model_name": "FloatProgressModel",
            "_view_count": null,
            "_view_module": "@jupyter-widgets/controls",
            "_view_module_version": "1.5.0",
            "_view_name": "ProgressView",
            "bar_style": "success",
            "description": "",
            "description_tooltip": null,
            "layout": "IPY_MODEL_c66c1a5f7d4949a4b2a84021a9f76510",
            "max": 48,
            "min": 0,
            "orientation": "horizontal",
            "style": "IPY_MODEL_92391f25eeb74262854ad0d4749b082a",
            "value": 48
          }
        },
        "914eadb7352d40748211d333cf6a5f78": {
          "model_module": "@jupyter-widgets/controls",
          "model_name": "HTMLModel",
          "model_module_version": "1.5.0",
          "state": {
            "_dom_classes": [],
            "_model_module": "@jupyter-widgets/controls",
            "_model_module_version": "1.5.0",
            "_model_name": "HTMLModel",
            "_view_count": null,
            "_view_module": "@jupyter-widgets/controls",
            "_view_module_version": "1.5.0",
            "_view_name": "HTMLView",
            "description": "",
            "description_tooltip": null,
            "layout": "IPY_MODEL_344d865784a847399a8c0ef881737cd7",
            "placeholder": "​",
            "style": "IPY_MODEL_8f49542b277b497eb5e2fee27dc62977",
            "value": " 48.0/48.0 [00:00&lt;00:00, 667B/s]"
          }
        },
        "d3b1721f11af46408a95602cfb6aa21a": {
          "model_module": "@jupyter-widgets/base",
          "model_name": "LayoutModel",
          "model_module_version": "1.2.0",
          "state": {
            "_model_module": "@jupyter-widgets/base",
            "_model_module_version": "1.2.0",
            "_model_name": "LayoutModel",
            "_view_count": null,
            "_view_module": "@jupyter-widgets/base",
            "_view_module_version": "1.2.0",
            "_view_name": "LayoutView",
            "align_content": null,
            "align_items": null,
            "align_self": null,
            "border": null,
            "bottom": null,
            "display": null,
            "flex": null,
            "flex_flow": null,
            "grid_area": null,
            "grid_auto_columns": null,
            "grid_auto_flow": null,
            "grid_auto_rows": null,
            "grid_column": null,
            "grid_gap": null,
            "grid_row": null,
            "grid_template_areas": null,
            "grid_template_columns": null,
            "grid_template_rows": null,
            "height": null,
            "justify_content": null,
            "justify_items": null,
            "left": null,
            "margin": null,
            "max_height": null,
            "max_width": null,
            "min_height": null,
            "min_width": null,
            "object_fit": null,
            "object_position": null,
            "order": null,
            "overflow": null,
            "overflow_x": null,
            "overflow_y": null,
            "padding": null,
            "right": null,
            "top": null,
            "visibility": null,
            "width": null
          }
        },
        "89f46fb00b774923b251e95801cf1276": {
          "model_module": "@jupyter-widgets/base",
          "model_name": "LayoutModel",
          "model_module_version": "1.2.0",
          "state": {
            "_model_module": "@jupyter-widgets/base",
            "_model_module_version": "1.2.0",
            "_model_name": "LayoutModel",
            "_view_count": null,
            "_view_module": "@jupyter-widgets/base",
            "_view_module_version": "1.2.0",
            "_view_name": "LayoutView",
            "align_content": null,
            "align_items": null,
            "align_self": null,
            "border": null,
            "bottom": null,
            "display": null,
            "flex": null,
            "flex_flow": null,
            "grid_area": null,
            "grid_auto_columns": null,
            "grid_auto_flow": null,
            "grid_auto_rows": null,
            "grid_column": null,
            "grid_gap": null,
            "grid_row": null,
            "grid_template_areas": null,
            "grid_template_columns": null,
            "grid_template_rows": null,
            "height": null,
            "justify_content": null,
            "justify_items": null,
            "left": null,
            "margin": null,
            "max_height": null,
            "max_width": null,
            "min_height": null,
            "min_width": null,
            "object_fit": null,
            "object_position": null,
            "order": null,
            "overflow": null,
            "overflow_x": null,
            "overflow_y": null,
            "padding": null,
            "right": null,
            "top": null,
            "visibility": null,
            "width": null
          }
        },
        "7458632ff928457d88763abf0f889df7": {
          "model_module": "@jupyter-widgets/controls",
          "model_name": "DescriptionStyleModel",
          "model_module_version": "1.5.0",
          "state": {
            "_model_module": "@jupyter-widgets/controls",
            "_model_module_version": "1.5.0",
            "_model_name": "DescriptionStyleModel",
            "_view_count": null,
            "_view_module": "@jupyter-widgets/base",
            "_view_module_version": "1.2.0",
            "_view_name": "StyleView",
            "description_width": ""
          }
        },
        "c66c1a5f7d4949a4b2a84021a9f76510": {
          "model_module": "@jupyter-widgets/base",
          "model_name": "LayoutModel",
          "model_module_version": "1.2.0",
          "state": {
            "_model_module": "@jupyter-widgets/base",
            "_model_module_version": "1.2.0",
            "_model_name": "LayoutModel",
            "_view_count": null,
            "_view_module": "@jupyter-widgets/base",
            "_view_module_version": "1.2.0",
            "_view_name": "LayoutView",
            "align_content": null,
            "align_items": null,
            "align_self": null,
            "border": null,
            "bottom": null,
            "display": null,
            "flex": null,
            "flex_flow": null,
            "grid_area": null,
            "grid_auto_columns": null,
            "grid_auto_flow": null,
            "grid_auto_rows": null,
            "grid_column": null,
            "grid_gap": null,
            "grid_row": null,
            "grid_template_areas": null,
            "grid_template_columns": null,
            "grid_template_rows": null,
            "height": null,
            "justify_content": null,
            "justify_items": null,
            "left": null,
            "margin": null,
            "max_height": null,
            "max_width": null,
            "min_height": null,
            "min_width": null,
            "object_fit": null,
            "object_position": null,
            "order": null,
            "overflow": null,
            "overflow_x": null,
            "overflow_y": null,
            "padding": null,
            "right": null,
            "top": null,
            "visibility": null,
            "width": null
          }
        },
        "92391f25eeb74262854ad0d4749b082a": {
          "model_module": "@jupyter-widgets/controls",
          "model_name": "ProgressStyleModel",
          "model_module_version": "1.5.0",
          "state": {
            "_model_module": "@jupyter-widgets/controls",
            "_model_module_version": "1.5.0",
            "_model_name": "ProgressStyleModel",
            "_view_count": null,
            "_view_module": "@jupyter-widgets/base",
            "_view_module_version": "1.2.0",
            "_view_name": "StyleView",
            "bar_color": null,
            "description_width": ""
          }
        },
        "344d865784a847399a8c0ef881737cd7": {
          "model_module": "@jupyter-widgets/base",
          "model_name": "LayoutModel",
          "model_module_version": "1.2.0",
          "state": {
            "_model_module": "@jupyter-widgets/base",
            "_model_module_version": "1.2.0",
            "_model_name": "LayoutModel",
            "_view_count": null,
            "_view_module": "@jupyter-widgets/base",
            "_view_module_version": "1.2.0",
            "_view_name": "LayoutView",
            "align_content": null,
            "align_items": null,
            "align_self": null,
            "border": null,
            "bottom": null,
            "display": null,
            "flex": null,
            "flex_flow": null,
            "grid_area": null,
            "grid_auto_columns": null,
            "grid_auto_flow": null,
            "grid_auto_rows": null,
            "grid_column": null,
            "grid_gap": null,
            "grid_row": null,
            "grid_template_areas": null,
            "grid_template_columns": null,
            "grid_template_rows": null,
            "height": null,
            "justify_content": null,
            "justify_items": null,
            "left": null,
            "margin": null,
            "max_height": null,
            "max_width": null,
            "min_height": null,
            "min_width": null,
            "object_fit": null,
            "object_position": null,
            "order": null,
            "overflow": null,
            "overflow_x": null,
            "overflow_y": null,
            "padding": null,
            "right": null,
            "top": null,
            "visibility": null,
            "width": null
          }
        },
        "8f49542b277b497eb5e2fee27dc62977": {
          "model_module": "@jupyter-widgets/controls",
          "model_name": "DescriptionStyleModel",
          "model_module_version": "1.5.0",
          "state": {
            "_model_module": "@jupyter-widgets/controls",
            "_model_module_version": "1.5.0",
            "_model_name": "DescriptionStyleModel",
            "_view_count": null,
            "_view_module": "@jupyter-widgets/base",
            "_view_module_version": "1.2.0",
            "_view_name": "StyleView",
            "description_width": ""
          }
        },
        "823519a24f884265b117a54e15194c1b": {
          "model_module": "@jupyter-widgets/controls",
          "model_name": "HBoxModel",
          "model_module_version": "1.5.0",
          "state": {
            "_dom_classes": [],
            "_model_module": "@jupyter-widgets/controls",
            "_model_module_version": "1.5.0",
            "_model_name": "HBoxModel",
            "_view_count": null,
            "_view_module": "@jupyter-widgets/controls",
            "_view_module_version": "1.5.0",
            "_view_name": "HBoxView",
            "box_style": "",
            "children": [
              "IPY_MODEL_4c7e0442eb1840cea3f9d546cad23c68",
              "IPY_MODEL_5dcaf5a5b6bf48e8883a5ea2131e051d",
              "IPY_MODEL_8bb6e07dce0e49118117ada7676d2f1d"
            ],
            "layout": "IPY_MODEL_8d4b0315583243ccb191a436c5644532"
          }
        },
        "4c7e0442eb1840cea3f9d546cad23c68": {
          "model_module": "@jupyter-widgets/controls",
          "model_name": "HTMLModel",
          "model_module_version": "1.5.0",
          "state": {
            "_dom_classes": [],
            "_model_module": "@jupyter-widgets/controls",
            "_model_module_version": "1.5.0",
            "_model_name": "HTMLModel",
            "_view_count": null,
            "_view_module": "@jupyter-widgets/controls",
            "_view_module_version": "1.5.0",
            "_view_name": "HTMLView",
            "description": "",
            "description_tooltip": null,
            "layout": "IPY_MODEL_0843143c4ce148a6931b4daa9e420109",
            "placeholder": "​",
            "style": "IPY_MODEL_937959a640f84130b27a863dbe9d26f1",
            "value": "vocab.txt: 100%"
          }
        },
        "5dcaf5a5b6bf48e8883a5ea2131e051d": {
          "model_module": "@jupyter-widgets/controls",
          "model_name": "FloatProgressModel",
          "model_module_version": "1.5.0",
          "state": {
            "_dom_classes": [],
            "_model_module": "@jupyter-widgets/controls",
            "_model_module_version": "1.5.0",
            "_model_name": "FloatProgressModel",
            "_view_count": null,
            "_view_module": "@jupyter-widgets/controls",
            "_view_module_version": "1.5.0",
            "_view_name": "ProgressView",
            "bar_style": "success",
            "description": "",
            "description_tooltip": null,
            "layout": "IPY_MODEL_e60cd58155654fc8aa0cf47c95d4c05d",
            "max": 231508,
            "min": 0,
            "orientation": "horizontal",
            "style": "IPY_MODEL_b814d0ad716543fc98e91d3ea7a40b58",
            "value": 231508
          }
        },
        "8bb6e07dce0e49118117ada7676d2f1d": {
          "model_module": "@jupyter-widgets/controls",
          "model_name": "HTMLModel",
          "model_module_version": "1.5.0",
          "state": {
            "_dom_classes": [],
            "_model_module": "@jupyter-widgets/controls",
            "_model_module_version": "1.5.0",
            "_model_name": "HTMLModel",
            "_view_count": null,
            "_view_module": "@jupyter-widgets/controls",
            "_view_module_version": "1.5.0",
            "_view_name": "HTMLView",
            "description": "",
            "description_tooltip": null,
            "layout": "IPY_MODEL_0860dc8101414380933e13f327bd922b",
            "placeholder": "​",
            "style": "IPY_MODEL_8d5c20a3c0004d2696ccee5f1bf048b8",
            "value": " 232k/232k [00:00&lt;00:00, 2.03MB/s]"
          }
        },
        "8d4b0315583243ccb191a436c5644532": {
          "model_module": "@jupyter-widgets/base",
          "model_name": "LayoutModel",
          "model_module_version": "1.2.0",
          "state": {
            "_model_module": "@jupyter-widgets/base",
            "_model_module_version": "1.2.0",
            "_model_name": "LayoutModel",
            "_view_count": null,
            "_view_module": "@jupyter-widgets/base",
            "_view_module_version": "1.2.0",
            "_view_name": "LayoutView",
            "align_content": null,
            "align_items": null,
            "align_self": null,
            "border": null,
            "bottom": null,
            "display": null,
            "flex": null,
            "flex_flow": null,
            "grid_area": null,
            "grid_auto_columns": null,
            "grid_auto_flow": null,
            "grid_auto_rows": null,
            "grid_column": null,
            "grid_gap": null,
            "grid_row": null,
            "grid_template_areas": null,
            "grid_template_columns": null,
            "grid_template_rows": null,
            "height": null,
            "justify_content": null,
            "justify_items": null,
            "left": null,
            "margin": null,
            "max_height": null,
            "max_width": null,
            "min_height": null,
            "min_width": null,
            "object_fit": null,
            "object_position": null,
            "order": null,
            "overflow": null,
            "overflow_x": null,
            "overflow_y": null,
            "padding": null,
            "right": null,
            "top": null,
            "visibility": null,
            "width": null
          }
        },
        "0843143c4ce148a6931b4daa9e420109": {
          "model_module": "@jupyter-widgets/base",
          "model_name": "LayoutModel",
          "model_module_version": "1.2.0",
          "state": {
            "_model_module": "@jupyter-widgets/base",
            "_model_module_version": "1.2.0",
            "_model_name": "LayoutModel",
            "_view_count": null,
            "_view_module": "@jupyter-widgets/base",
            "_view_module_version": "1.2.0",
            "_view_name": "LayoutView",
            "align_content": null,
            "align_items": null,
            "align_self": null,
            "border": null,
            "bottom": null,
            "display": null,
            "flex": null,
            "flex_flow": null,
            "grid_area": null,
            "grid_auto_columns": null,
            "grid_auto_flow": null,
            "grid_auto_rows": null,
            "grid_column": null,
            "grid_gap": null,
            "grid_row": null,
            "grid_template_areas": null,
            "grid_template_columns": null,
            "grid_template_rows": null,
            "height": null,
            "justify_content": null,
            "justify_items": null,
            "left": null,
            "margin": null,
            "max_height": null,
            "max_width": null,
            "min_height": null,
            "min_width": null,
            "object_fit": null,
            "object_position": null,
            "order": null,
            "overflow": null,
            "overflow_x": null,
            "overflow_y": null,
            "padding": null,
            "right": null,
            "top": null,
            "visibility": null,
            "width": null
          }
        },
        "937959a640f84130b27a863dbe9d26f1": {
          "model_module": "@jupyter-widgets/controls",
          "model_name": "DescriptionStyleModel",
          "model_module_version": "1.5.0",
          "state": {
            "_model_module": "@jupyter-widgets/controls",
            "_model_module_version": "1.5.0",
            "_model_name": "DescriptionStyleModel",
            "_view_count": null,
            "_view_module": "@jupyter-widgets/base",
            "_view_module_version": "1.2.0",
            "_view_name": "StyleView",
            "description_width": ""
          }
        },
        "e60cd58155654fc8aa0cf47c95d4c05d": {
          "model_module": "@jupyter-widgets/base",
          "model_name": "LayoutModel",
          "model_module_version": "1.2.0",
          "state": {
            "_model_module": "@jupyter-widgets/base",
            "_model_module_version": "1.2.0",
            "_model_name": "LayoutModel",
            "_view_count": null,
            "_view_module": "@jupyter-widgets/base",
            "_view_module_version": "1.2.0",
            "_view_name": "LayoutView",
            "align_content": null,
            "align_items": null,
            "align_self": null,
            "border": null,
            "bottom": null,
            "display": null,
            "flex": null,
            "flex_flow": null,
            "grid_area": null,
            "grid_auto_columns": null,
            "grid_auto_flow": null,
            "grid_auto_rows": null,
            "grid_column": null,
            "grid_gap": null,
            "grid_row": null,
            "grid_template_areas": null,
            "grid_template_columns": null,
            "grid_template_rows": null,
            "height": null,
            "justify_content": null,
            "justify_items": null,
            "left": null,
            "margin": null,
            "max_height": null,
            "max_width": null,
            "min_height": null,
            "min_width": null,
            "object_fit": null,
            "object_position": null,
            "order": null,
            "overflow": null,
            "overflow_x": null,
            "overflow_y": null,
            "padding": null,
            "right": null,
            "top": null,
            "visibility": null,
            "width": null
          }
        },
        "b814d0ad716543fc98e91d3ea7a40b58": {
          "model_module": "@jupyter-widgets/controls",
          "model_name": "ProgressStyleModel",
          "model_module_version": "1.5.0",
          "state": {
            "_model_module": "@jupyter-widgets/controls",
            "_model_module_version": "1.5.0",
            "_model_name": "ProgressStyleModel",
            "_view_count": null,
            "_view_module": "@jupyter-widgets/base",
            "_view_module_version": "1.2.0",
            "_view_name": "StyleView",
            "bar_color": null,
            "description_width": ""
          }
        },
        "0860dc8101414380933e13f327bd922b": {
          "model_module": "@jupyter-widgets/base",
          "model_name": "LayoutModel",
          "model_module_version": "1.2.0",
          "state": {
            "_model_module": "@jupyter-widgets/base",
            "_model_module_version": "1.2.0",
            "_model_name": "LayoutModel",
            "_view_count": null,
            "_view_module": "@jupyter-widgets/base",
            "_view_module_version": "1.2.0",
            "_view_name": "LayoutView",
            "align_content": null,
            "align_items": null,
            "align_self": null,
            "border": null,
            "bottom": null,
            "display": null,
            "flex": null,
            "flex_flow": null,
            "grid_area": null,
            "grid_auto_columns": null,
            "grid_auto_flow": null,
            "grid_auto_rows": null,
            "grid_column": null,
            "grid_gap": null,
            "grid_row": null,
            "grid_template_areas": null,
            "grid_template_columns": null,
            "grid_template_rows": null,
            "height": null,
            "justify_content": null,
            "justify_items": null,
            "left": null,
            "margin": null,
            "max_height": null,
            "max_width": null,
            "min_height": null,
            "min_width": null,
            "object_fit": null,
            "object_position": null,
            "order": null,
            "overflow": null,
            "overflow_x": null,
            "overflow_y": null,
            "padding": null,
            "right": null,
            "top": null,
            "visibility": null,
            "width": null
          }
        },
        "8d5c20a3c0004d2696ccee5f1bf048b8": {
          "model_module": "@jupyter-widgets/controls",
          "model_name": "DescriptionStyleModel",
          "model_module_version": "1.5.0",
          "state": {
            "_model_module": "@jupyter-widgets/controls",
            "_model_module_version": "1.5.0",
            "_model_name": "DescriptionStyleModel",
            "_view_count": null,
            "_view_module": "@jupyter-widgets/base",
            "_view_module_version": "1.2.0",
            "_view_name": "StyleView",
            "description_width": ""
          }
        },
        "030b44b96ec8462eadba372794cd8355": {
          "model_module": "@jupyter-widgets/controls",
          "model_name": "HBoxModel",
          "model_module_version": "1.5.0",
          "state": {
            "_dom_classes": [],
            "_model_module": "@jupyter-widgets/controls",
            "_model_module_version": "1.5.0",
            "_model_name": "HBoxModel",
            "_view_count": null,
            "_view_module": "@jupyter-widgets/controls",
            "_view_module_version": "1.5.0",
            "_view_name": "HBoxView",
            "box_style": "",
            "children": [
              "IPY_MODEL_83298129069f4f3ab9cd4e720ae649b7",
              "IPY_MODEL_ef053e962e92427a92088c16be882507",
              "IPY_MODEL_4c188bb8861246f28856f5e08bdce6cc"
            ],
            "layout": "IPY_MODEL_d7b4a2d4c95944e4b20ff5afc6e9d087"
          }
        },
        "83298129069f4f3ab9cd4e720ae649b7": {
          "model_module": "@jupyter-widgets/controls",
          "model_name": "HTMLModel",
          "model_module_version": "1.5.0",
          "state": {
            "_dom_classes": [],
            "_model_module": "@jupyter-widgets/controls",
            "_model_module_version": "1.5.0",
            "_model_name": "HTMLModel",
            "_view_count": null,
            "_view_module": "@jupyter-widgets/controls",
            "_view_module_version": "1.5.0",
            "_view_name": "HTMLView",
            "description": "",
            "description_tooltip": null,
            "layout": "IPY_MODEL_e6a930a518764193848c9da66ba4e640",
            "placeholder": "​",
            "style": "IPY_MODEL_dbe02809c3f745f290fda34adf3bcc1b",
            "value": "tokenizer.json: 100%"
          }
        },
        "ef053e962e92427a92088c16be882507": {
          "model_module": "@jupyter-widgets/controls",
          "model_name": "FloatProgressModel",
          "model_module_version": "1.5.0",
          "state": {
            "_dom_classes": [],
            "_model_module": "@jupyter-widgets/controls",
            "_model_module_version": "1.5.0",
            "_model_name": "FloatProgressModel",
            "_view_count": null,
            "_view_module": "@jupyter-widgets/controls",
            "_view_module_version": "1.5.0",
            "_view_name": "ProgressView",
            "bar_style": "success",
            "description": "",
            "description_tooltip": null,
            "layout": "IPY_MODEL_4bf20448ea04459d8c8fb1f8cea18d2b",
            "max": 466062,
            "min": 0,
            "orientation": "horizontal",
            "style": "IPY_MODEL_a213caadaa0341f28b81e8f0bc1b8d07",
            "value": 466062
          }
        },
        "4c188bb8861246f28856f5e08bdce6cc": {
          "model_module": "@jupyter-widgets/controls",
          "model_name": "HTMLModel",
          "model_module_version": "1.5.0",
          "state": {
            "_dom_classes": [],
            "_model_module": "@jupyter-widgets/controls",
            "_model_module_version": "1.5.0",
            "_model_name": "HTMLModel",
            "_view_count": null,
            "_view_module": "@jupyter-widgets/controls",
            "_view_module_version": "1.5.0",
            "_view_name": "HTMLView",
            "description": "",
            "description_tooltip": null,
            "layout": "IPY_MODEL_b2151a5895ba4da3af76808444b476e9",
            "placeholder": "​",
            "style": "IPY_MODEL_add55d2c89b14b529d6dd28bfbdbcbec",
            "value": " 466k/466k [00:00&lt;00:00, 6.71MB/s]"
          }
        },
        "d7b4a2d4c95944e4b20ff5afc6e9d087": {
          "model_module": "@jupyter-widgets/base",
          "model_name": "LayoutModel",
          "model_module_version": "1.2.0",
          "state": {
            "_model_module": "@jupyter-widgets/base",
            "_model_module_version": "1.2.0",
            "_model_name": "LayoutModel",
            "_view_count": null,
            "_view_module": "@jupyter-widgets/base",
            "_view_module_version": "1.2.0",
            "_view_name": "LayoutView",
            "align_content": null,
            "align_items": null,
            "align_self": null,
            "border": null,
            "bottom": null,
            "display": null,
            "flex": null,
            "flex_flow": null,
            "grid_area": null,
            "grid_auto_columns": null,
            "grid_auto_flow": null,
            "grid_auto_rows": null,
            "grid_column": null,
            "grid_gap": null,
            "grid_row": null,
            "grid_template_areas": null,
            "grid_template_columns": null,
            "grid_template_rows": null,
            "height": null,
            "justify_content": null,
            "justify_items": null,
            "left": null,
            "margin": null,
            "max_height": null,
            "max_width": null,
            "min_height": null,
            "min_width": null,
            "object_fit": null,
            "object_position": null,
            "order": null,
            "overflow": null,
            "overflow_x": null,
            "overflow_y": null,
            "padding": null,
            "right": null,
            "top": null,
            "visibility": null,
            "width": null
          }
        },
        "e6a930a518764193848c9da66ba4e640": {
          "model_module": "@jupyter-widgets/base",
          "model_name": "LayoutModel",
          "model_module_version": "1.2.0",
          "state": {
            "_model_module": "@jupyter-widgets/base",
            "_model_module_version": "1.2.0",
            "_model_name": "LayoutModel",
            "_view_count": null,
            "_view_module": "@jupyter-widgets/base",
            "_view_module_version": "1.2.0",
            "_view_name": "LayoutView",
            "align_content": null,
            "align_items": null,
            "align_self": null,
            "border": null,
            "bottom": null,
            "display": null,
            "flex": null,
            "flex_flow": null,
            "grid_area": null,
            "grid_auto_columns": null,
            "grid_auto_flow": null,
            "grid_auto_rows": null,
            "grid_column": null,
            "grid_gap": null,
            "grid_row": null,
            "grid_template_areas": null,
            "grid_template_columns": null,
            "grid_template_rows": null,
            "height": null,
            "justify_content": null,
            "justify_items": null,
            "left": null,
            "margin": null,
            "max_height": null,
            "max_width": null,
            "min_height": null,
            "min_width": null,
            "object_fit": null,
            "object_position": null,
            "order": null,
            "overflow": null,
            "overflow_x": null,
            "overflow_y": null,
            "padding": null,
            "right": null,
            "top": null,
            "visibility": null,
            "width": null
          }
        },
        "dbe02809c3f745f290fda34adf3bcc1b": {
          "model_module": "@jupyter-widgets/controls",
          "model_name": "DescriptionStyleModel",
          "model_module_version": "1.5.0",
          "state": {
            "_model_module": "@jupyter-widgets/controls",
            "_model_module_version": "1.5.0",
            "_model_name": "DescriptionStyleModel",
            "_view_count": null,
            "_view_module": "@jupyter-widgets/base",
            "_view_module_version": "1.2.0",
            "_view_name": "StyleView",
            "description_width": ""
          }
        },
        "4bf20448ea04459d8c8fb1f8cea18d2b": {
          "model_module": "@jupyter-widgets/base",
          "model_name": "LayoutModel",
          "model_module_version": "1.2.0",
          "state": {
            "_model_module": "@jupyter-widgets/base",
            "_model_module_version": "1.2.0",
            "_model_name": "LayoutModel",
            "_view_count": null,
            "_view_module": "@jupyter-widgets/base",
            "_view_module_version": "1.2.0",
            "_view_name": "LayoutView",
            "align_content": null,
            "align_items": null,
            "align_self": null,
            "border": null,
            "bottom": null,
            "display": null,
            "flex": null,
            "flex_flow": null,
            "grid_area": null,
            "grid_auto_columns": null,
            "grid_auto_flow": null,
            "grid_auto_rows": null,
            "grid_column": null,
            "grid_gap": null,
            "grid_row": null,
            "grid_template_areas": null,
            "grid_template_columns": null,
            "grid_template_rows": null,
            "height": null,
            "justify_content": null,
            "justify_items": null,
            "left": null,
            "margin": null,
            "max_height": null,
            "max_width": null,
            "min_height": null,
            "min_width": null,
            "object_fit": null,
            "object_position": null,
            "order": null,
            "overflow": null,
            "overflow_x": null,
            "overflow_y": null,
            "padding": null,
            "right": null,
            "top": null,
            "visibility": null,
            "width": null
          }
        },
        "a213caadaa0341f28b81e8f0bc1b8d07": {
          "model_module": "@jupyter-widgets/controls",
          "model_name": "ProgressStyleModel",
          "model_module_version": "1.5.0",
          "state": {
            "_model_module": "@jupyter-widgets/controls",
            "_model_module_version": "1.5.0",
            "_model_name": "ProgressStyleModel",
            "_view_count": null,
            "_view_module": "@jupyter-widgets/base",
            "_view_module_version": "1.2.0",
            "_view_name": "StyleView",
            "bar_color": null,
            "description_width": ""
          }
        },
        "b2151a5895ba4da3af76808444b476e9": {
          "model_module": "@jupyter-widgets/base",
          "model_name": "LayoutModel",
          "model_module_version": "1.2.0",
          "state": {
            "_model_module": "@jupyter-widgets/base",
            "_model_module_version": "1.2.0",
            "_model_name": "LayoutModel",
            "_view_count": null,
            "_view_module": "@jupyter-widgets/base",
            "_view_module_version": "1.2.0",
            "_view_name": "LayoutView",
            "align_content": null,
            "align_items": null,
            "align_self": null,
            "border": null,
            "bottom": null,
            "display": null,
            "flex": null,
            "flex_flow": null,
            "grid_area": null,
            "grid_auto_columns": null,
            "grid_auto_flow": null,
            "grid_auto_rows": null,
            "grid_column": null,
            "grid_gap": null,
            "grid_row": null,
            "grid_template_areas": null,
            "grid_template_columns": null,
            "grid_template_rows": null,
            "height": null,
            "justify_content": null,
            "justify_items": null,
            "left": null,
            "margin": null,
            "max_height": null,
            "max_width": null,
            "min_height": null,
            "min_width": null,
            "object_fit": null,
            "object_position": null,
            "order": null,
            "overflow": null,
            "overflow_x": null,
            "overflow_y": null,
            "padding": null,
            "right": null,
            "top": null,
            "visibility": null,
            "width": null
          }
        },
        "add55d2c89b14b529d6dd28bfbdbcbec": {
          "model_module": "@jupyter-widgets/controls",
          "model_name": "DescriptionStyleModel",
          "model_module_version": "1.5.0",
          "state": {
            "_model_module": "@jupyter-widgets/controls",
            "_model_module_version": "1.5.0",
            "_model_name": "DescriptionStyleModel",
            "_view_count": null,
            "_view_module": "@jupyter-widgets/base",
            "_view_module_version": "1.2.0",
            "_view_name": "StyleView",
            "description_width": ""
          }
        }
      }
    }
  },
  "cells": [
    {
      "cell_type": "markdown",
      "metadata": {
        "id": "view-in-github",
        "colab_type": "text"
      },
      "source": [
        "<a href=\"https://colab.research.google.com/github/KhosrojerdiA/BERT/blob/main/Question_Answering_System_with_Fine_Tuned_BERT.ipynb\" target=\"_parent\"><img src=\"https://colab.research.google.com/assets/colab-badge.svg\" alt=\"Open In Colab\"/></a>"
      ]
    },
    {
      "cell_type": "code",
      "execution_count": 1,
      "metadata": {
        "colab": {
          "base_uri": "https://localhost:8080/"
        },
        "id": "Wtal3VlOPepI",
        "outputId": "fa150a45-a8a5-4883-d2a9-03f24d191e83"
      },
      "outputs": [
        {
          "output_type": "stream",
          "name": "stdout",
          "text": [
            "Collecting pdfplumber\n",
            "  Downloading pdfplumber-0.11.0-py3-none-any.whl (56 kB)\n",
            "\u001b[2K     \u001b[90m━━━━━━━━━━━━━━━━━━━━━━━━━━━━━━━━━━━━━━━━\u001b[0m \u001b[32m56.4/56.4 kB\u001b[0m \u001b[31m1.8 MB/s\u001b[0m eta \u001b[36m0:00:00\u001b[0m\n",
            "\u001b[?25hCollecting pdfminer.six==20231228 (from pdfplumber)\n",
            "  Downloading pdfminer.six-20231228-py3-none-any.whl (5.6 MB)\n",
            "\u001b[2K     \u001b[90m━━━━━━━━━━━━━━━━━━━━━━━━━━━━━━━━━━━━━━━━\u001b[0m \u001b[32m5.6/5.6 MB\u001b[0m \u001b[31m37.0 MB/s\u001b[0m eta \u001b[36m0:00:00\u001b[0m\n",
            "\u001b[?25hRequirement already satisfied: Pillow>=9.1 in /usr/local/lib/python3.10/dist-packages (from pdfplumber) (9.4.0)\n",
            "Collecting pypdfium2>=4.18.0 (from pdfplumber)\n",
            "  Downloading pypdfium2-4.27.0-py3-none-manylinux_2_17_x86_64.manylinux2014_x86_64.whl (2.8 MB)\n",
            "\u001b[2K     \u001b[90m━━━━━━━━━━━━━━━━━━━━━━━━━━━━━━━━━━━━━━━━\u001b[0m \u001b[32m2.8/2.8 MB\u001b[0m \u001b[31m26.1 MB/s\u001b[0m eta \u001b[36m0:00:00\u001b[0m\n",
            "\u001b[?25hRequirement already satisfied: charset-normalizer>=2.0.0 in /usr/local/lib/python3.10/dist-packages (from pdfminer.six==20231228->pdfplumber) (3.3.2)\n",
            "Requirement already satisfied: cryptography>=36.0.0 in /usr/local/lib/python3.10/dist-packages (from pdfminer.six==20231228->pdfplumber) (42.0.5)\n",
            "Requirement already satisfied: cffi>=1.12 in /usr/local/lib/python3.10/dist-packages (from cryptography>=36.0.0->pdfminer.six==20231228->pdfplumber) (1.16.0)\n",
            "Requirement already satisfied: pycparser in /usr/local/lib/python3.10/dist-packages (from cffi>=1.12->cryptography>=36.0.0->pdfminer.six==20231228->pdfplumber) (2.21)\n",
            "Installing collected packages: pypdfium2, pdfminer.six, pdfplumber\n",
            "Successfully installed pdfminer.six-20231228 pdfplumber-0.11.0 pypdfium2-4.27.0\n"
          ]
        }
      ],
      "source": [
        "pip install pdfplumber"
      ]
    },
    {
      "cell_type": "markdown",
      "source": [
        "#Question Answering System with Fine-Tuned BERT\n"
      ],
      "metadata": {
        "id": "Yf2XNHEvpIiA"
      }
    },
    {
      "cell_type": "markdown",
      "source": [
        "#Tokenize with nltk"
      ],
      "metadata": {
        "id": "SZ903jG5T4zH"
      }
    },
    {
      "cell_type": "code",
      "source": [
        "pdf_txt = \"\"\"Life insurance is a legally enforceable contract between two parties both of whom are legally qualified to contract. It is therefore, necessary that the terms and conditions of the agreement must be suitably documented in a manner that would make it clear that both parties to the contract are Ad- idem i.e., of the same mind. Ad-Idem means that both the parties understand the same thing in the same sense or are of the same mind on the same subject. There must be consensus or Ad-Idem between the parties to the contract.\n",
        "This is possible provided all the terms and conditions, rights and duties - privileges and obligations are properly documented in terms which can be clearly interpreted in a court of law. Between two human beings sometime silence means an acceptance. But as the insurer is a legal personality entitled to contract verbal discussion between parties to the contract is not possible and hence there is a need for documentation.\n",
        "Insurance is also a contract of utmost good faith and enforced only in the distant future. It is therefore necessary that the declarations made by both the parties should be put in black and white for future reference. Any suppression, willful and material shall make the contract void. The insured, therefore, has a duty to declare all that he knows about himself, his health, his financial status in answering questions contained in the proposal form and other ancillary documents which may be required by the insurer.\n",
        "Age is an important factor in deciding the quantum of premium against a policy. The document proving the age, i.e. age proof must be reliable and the insured has to undertake as to its truthfulness.\n",
        "Non-standard age proofs are those which are comparatively less reliable and therefore the insurer accepts them with a pinch of salt. In other words the insurer takes certain precautions before accepting such age proofs as final.\n",
        "Proof of income is the document may become necessary whenever the sum proposed is very high. Normally a sum proposed which is seven to eight times of the declared income is acceptable for insurance. But proposals do come to the insurer when the known source of income of the proposer is much less compared to the amount of insurance desired. A service holder normally does not face this problem as his sources of income are verifiable.\n",
        "In case of business people, the assessed income is at times much less compared to what is a desirable income for the amount of insurance desired. In such cases the insurer at times calls for assessed income tax returns, or Chartered Accountant’s certificate etc. Such precautions are necessary to eliminate the possibility of moral hazard.\n",
        "Policy Contract is the policy document is a detailed document and it is the Evidence of the insurance contract which mentions all the terms and conditions of the insurance. The insured buys not the policy contract, but the right to the sum of money and its future delivery. The insurer on its part promises to pay a sum of money, provided of course the insured keeps its part of promise of paying the installments of premium as scheduled.\n",
        "The pre-amble to the insurance contract makes the above statement clear and states that this policy is issued subject to the conditions and privileges printed on the back of the policy. The endorsements placed on the policy shall also be part of the policy and it also makes a reference to the proposal form saying that that the statements given in the proposal form are the basis of the contract.\n",
        "The schedule which is printed on the policy document identifies the office which has issued the policy. It states the name of the policyholder, the date of commencement of the policy, an identification number of the policy called policy number. This number is extremely useful for making any reference to the insurer relating to this policy. This shall avoid needless delay.\n",
        "Beneficiary’s name is also mentioned along with address.\n",
        "It is necessary to check that it is correct and any mistake should be immediately pointed out for correction. A mistake in the address may misdirect the premium notices and any other future correspondence. It also states the name of the nominee and the date upto which premium has to be paid. The schedule goes on to mention, the type of policy, on the happening of which, the sum assured is payable and to whom it is payable. It of course also mentions when and how long the premium is to be paid.\n",
        "The policy document is signed by an official of the insurer and dated and stamped as per the provision of the Stamp Act to make it a completely legally enforceable document.\n",
        "An assignment of a policy in favour of another person or institution can be effected by an endorsement on the policy. Re-assignment can also be done by a subsequent endorsement on the same policy.As a nomination is automatically cancelled due to an assignment, after re-assignment, it is necessary to make a fresh nomination.\n",
        "In Duplicate policy a policy document is a valuable document and can be used for mortgage etc. Loss of policy document does not absolve the insurer from the liability of payment of policy proceeds when the claim arises. The claim can be settled on the claimants, furnishing an indemnity bond jointly with one surety.\n",
        "If a policy is irrevocably lost, a duplicate policy can be issued, after following a certain procedure like the insurer satisfies itself of the circumstances leading to loss and being so satisfied the insurer insists upon an advertisement in a news paper, production of an indemnity bond and payment of policy preparation charges and there after a duplicate policy is issued.\n",
        "Generally nomination is made at the time of taking a policy. In case it is not done, it is possible to make nomination subsequently by an endorsement on the policy. It is also possible to change a nomination subsequently by an endorsement. After marriage, such change in nomination is normally required.\n",
        "Life insurance being a legally enforceable contract, needs to be documented with details of the rights and obligations of the parties to the contract. Proposal form duly filled in and signed by the proposer is the first document which forms the basis of the contract.\n",
        "Every time, the insured pays the premium, he receives a premium receipt. The premium needs to be paid in time, non- payment of premium leads to policy-lapses. Re-instatement of the cover is called revival of the policy.\n",
        "If the policy is not revived, the policy can become a paid up policy for a reduced sum assured under certain conditions.\n",
        "The policy document mentions in detail all the rights and obligations of the policyholder. The agent is advised to explain the various provisions of the policy to the policyholder.\n",
        "The wordings in the policy document are of technical nature and hence the need for explaining. If there are certain endorsements on the policy, that need to be explained too.\n",
        "It needs to be explained that the policy is a valuable document and needs to be kept in safe custody and in the knowledge of the close relatives.\n",
        "\"\"\"\n",
        "\n",
        "import nltk\n",
        "nltk.download('punkt')\n",
        "tokens = nltk.sent_tokenize(pdf_txt)\n",
        "for t in tokens:\n",
        "    print(t, \"\\n\")"
      ],
      "metadata": {
        "colab": {
          "base_uri": "https://localhost:8080/"
        },
        "id": "l1oFA_xEPoeS",
        "outputId": "288fd0f6-7e09-4749-afba-665b547fb08f"
      },
      "execution_count": 2,
      "outputs": [
        {
          "output_type": "stream",
          "name": "stderr",
          "text": [
            "[nltk_data] Downloading package punkt to /root/nltk_data...\n",
            "[nltk_data]   Unzipping tokenizers/punkt.zip.\n"
          ]
        },
        {
          "output_type": "stream",
          "name": "stdout",
          "text": [
            "Life insurance is a legally enforceable contract between two parties both of whom are legally qualified to contract. \n",
            "\n",
            "It is therefore, necessary that the terms and conditions of the agreement must be suitably documented in a manner that would make it clear that both parties to the contract are Ad- idem i.e., of the same mind. \n",
            "\n",
            "Ad-Idem means that both the parties understand the same thing in the same sense or are of the same mind on the same subject. \n",
            "\n",
            "There must be consensus or Ad-Idem between the parties to the contract. \n",
            "\n",
            "This is possible provided all the terms and conditions, rights and duties - privileges and obligations are properly documented in terms which can be clearly interpreted in a court of law. \n",
            "\n",
            "Between two human beings sometime silence means an acceptance. \n",
            "\n",
            "But as the insurer is a legal personality entitled to contract verbal discussion between parties to the contract is not possible and hence there is a need for documentation. \n",
            "\n",
            "Insurance is also a contract of utmost good faith and enforced only in the distant future. \n",
            "\n",
            "It is therefore necessary that the declarations made by both the parties should be put in black and white for future reference. \n",
            "\n",
            "Any suppression, willful and material shall make the contract void. \n",
            "\n",
            "The insured, therefore, has a duty to declare all that he knows about himself, his health, his financial status in answering questions contained in the proposal form and other ancillary documents which may be required by the insurer. \n",
            "\n",
            "Age is an important factor in deciding the quantum of premium against a policy. \n",
            "\n",
            "The document proving the age, i.e. \n",
            "\n",
            "age proof must be reliable and the insured has to undertake as to its truthfulness. \n",
            "\n",
            "Non-standard age proofs are those which are comparatively less reliable and therefore the insurer accepts them with a pinch of salt. \n",
            "\n",
            "In other words the insurer takes certain precautions before accepting such age proofs as final. \n",
            "\n",
            "Proof of income is the document may become necessary whenever the sum proposed is very high. \n",
            "\n",
            "Normally a sum proposed which is seven to eight times of the declared income is acceptable for insurance. \n",
            "\n",
            "But proposals do come to the insurer when the known source of income of the proposer is much less compared to the amount of insurance desired. \n",
            "\n",
            "A service holder normally does not face this problem as his sources of income are verifiable. \n",
            "\n",
            "In case of business people, the assessed income is at times much less compared to what is a desirable income for the amount of insurance desired. \n",
            "\n",
            "In such cases the insurer at times calls for assessed income tax returns, or Chartered Accountant’s certificate etc. \n",
            "\n",
            "Such precautions are necessary to eliminate the possibility of moral hazard. \n",
            "\n",
            "Policy Contract is the policy document is a detailed document and it is the Evidence of the insurance contract which mentions all the terms and conditions of the insurance. \n",
            "\n",
            "The insured buys not the policy contract, but the right to the sum of money and its future delivery. \n",
            "\n",
            "The insurer on its part promises to pay a sum of money, provided of course the insured keeps its part of promise of paying the installments of premium as scheduled. \n",
            "\n",
            "The pre-amble to the insurance contract makes the above statement clear and states that this policy is issued subject to the conditions and privileges printed on the back of the policy. \n",
            "\n",
            "The endorsements placed on the policy shall also be part of the policy and it also makes a reference to the proposal form saying that that the statements given in the proposal form are the basis of the contract. \n",
            "\n",
            "The schedule which is printed on the policy document identifies the office which has issued the policy. \n",
            "\n",
            "It states the name of the policyholder, the date of commencement of the policy, an identification number of the policy called policy number. \n",
            "\n",
            "This number is extremely useful for making any reference to the insurer relating to this policy. \n",
            "\n",
            "This shall avoid needless delay. \n",
            "\n",
            "Beneficiary’s name is also mentioned along with address. \n",
            "\n",
            "It is necessary to check that it is correct and any mistake should be immediately pointed out for correction. \n",
            "\n",
            "A mistake in the address may misdirect the premium notices and any other future correspondence. \n",
            "\n",
            "It also states the name of the nominee and the date upto which premium has to be paid. \n",
            "\n",
            "The schedule goes on to mention, the type of policy, on the happening of which, the sum assured is payable and to whom it is payable. \n",
            "\n",
            "It of course also mentions when and how long the premium is to be paid. \n",
            "\n",
            "The policy document is signed by an official of the insurer and dated and stamped as per the provision of the Stamp Act to make it a completely legally enforceable document. \n",
            "\n",
            "An assignment of a policy in favour of another person or institution can be effected by an endorsement on the policy. \n",
            "\n",
            "Re-assignment can also be done by a subsequent endorsement on the same policy.As a nomination is automatically cancelled due to an assignment, after re-assignment, it is necessary to make a fresh nomination. \n",
            "\n",
            "In Duplicate policy a policy document is a valuable document and can be used for mortgage etc. \n",
            "\n",
            "Loss of policy document does not absolve the insurer from the liability of payment of policy proceeds when the claim arises. \n",
            "\n",
            "The claim can be settled on the claimants, furnishing an indemnity bond jointly with one surety. \n",
            "\n",
            "If a policy is irrevocably lost, a duplicate policy can be issued, after following a certain procedure like the insurer satisfies itself of the circumstances leading to loss and being so satisfied the insurer insists upon an advertisement in a news paper, production of an indemnity bond and payment of policy preparation charges and there after a duplicate policy is issued. \n",
            "\n",
            "Generally nomination is made at the time of taking a policy. \n",
            "\n",
            "In case it is not done, it is possible to make nomination subsequently by an endorsement on the policy. \n",
            "\n",
            "It is also possible to change a nomination subsequently by an endorsement. \n",
            "\n",
            "After marriage, such change in nomination is normally required. \n",
            "\n",
            "Life insurance being a legally enforceable contract, needs to be documented with details of the rights and obligations of the parties to the contract. \n",
            "\n",
            "Proposal form duly filled in and signed by the proposer is the first document which forms the basis of the contract. \n",
            "\n",
            "Every time, the insured pays the premium, he receives a premium receipt. \n",
            "\n",
            "The premium needs to be paid in time, non- payment of premium leads to policy-lapses. \n",
            "\n",
            "Re-instatement of the cover is called revival of the policy. \n",
            "\n",
            "If the policy is not revived, the policy can become a paid up policy for a reduced sum assured under certain conditions. \n",
            "\n",
            "The policy document mentions in detail all the rights and obligations of the policyholder. \n",
            "\n",
            "The agent is advised to explain the various provisions of the policy to the policyholder. \n",
            "\n",
            "The wordings in the policy document are of technical nature and hence the need for explaining. \n",
            "\n",
            "If there are certain endorsements on the policy, that need to be explained too. \n",
            "\n",
            "It needs to be explained that the policy is a valuable document and needs to be kept in safe custody and in the knowledge of the close relatives. \n",
            "\n"
          ]
        }
      ]
    },
    {
      "cell_type": "markdown",
      "source": [
        "#Question"
      ],
      "metadata": {
        "id": "AOma4zHDpSxN"
      }
    },
    {
      "cell_type": "code",
      "source": [
        "user_question = \"When can a duplicate policy be issued?\""
      ],
      "metadata": {
        "id": "vNxBQpdlQRgm"
      },
      "execution_count": 3,
      "outputs": []
    },
    {
      "cell_type": "markdown",
      "source": [
        "#Text Preprocessing"
      ],
      "metadata": {
        "id": "qxrB42fiUEGN"
      }
    },
    {
      "cell_type": "code",
      "source": [
        "import re\n",
        "import gensim\n",
        "from gensim.parsing.preprocessing import remove_stopwords\n",
        "\n",
        "\n",
        "def clean_sentence(sentence, stopwords=False):\n",
        "  sentence = sentence.lower().strip()\n",
        "  sentence = re.sub(r'[^a-z0-9\\s]', '', sentence)\n",
        "  if stopwords:\n",
        "    sentence = remove_stopwords(sentence)\n",
        "  return sentence\n",
        "\n",
        "def get_cleaned_sentences(tokens, stopwords=False):\n",
        "  cleaned_sentences = []\n",
        "  for row in tokens:\n",
        "    cleaned = clean_sentence(row, stopwords)\n",
        "    cleaned_sentences.append(cleaned)\n",
        "  return cleaned_sentences"
      ],
      "metadata": {
        "id": "Si36NSjmQUtR"
      },
      "execution_count": 4,
      "outputs": []
    },
    {
      "cell_type": "markdown",
      "source": [
        "##Call Functions"
      ],
      "metadata": {
        "id": "cGr-D2rrpbUR"
      }
    },
    {
      "cell_type": "code",
      "source": [
        "cleaned_sentences = get_cleaned_sentences(tokens, stopwords=True)\n",
        "cleaned_sentences_with_stopwords = get_cleaned_sentences(tokens, stopwords=False)\n",
        "print(cleaned_sentences)\n",
        "print(cleaned_sentences_with_stopwords)"
      ],
      "metadata": {
        "colab": {
          "base_uri": "https://localhost:8080/"
        },
        "id": "ERnU7EEHQXcw",
        "outputId": "c41d9f27-7b76-4310-b6a8-d14bf25047c8"
      },
      "execution_count": 5,
      "outputs": [
        {
          "output_type": "stream",
          "name": "stdout",
          "text": [
            "['life insurance legally enforceable contract parties legally qualified contract', 'necessary terms conditions agreement suitably documented manner clear parties contract ad idem mind', 'adidem means parties understand thing sense mind subject', 'consensus adidem parties contract', 'possible provided terms conditions rights duties privileges obligations properly documented terms clearly interpreted court law', 'human beings silence means acceptance', 'insurer legal personality entitled contract verbal discussion parties contract possible need documentation', 'insurance contract utmost good faith enforced distant future', 'necessary declarations parties black white future reference', 'suppression willful material shall contract void', 'insured duty declare knows health financial status answering questions contained proposal form ancillary documents required insurer', 'age important factor deciding quantum premium policy', 'document proving age', 'age proof reliable insured undertake truthfulness', 'nonstandard age proofs comparatively reliable insurer accepts pinch salt', 'words insurer takes certain precautions accepting age proofs final', 'proof income document necessary sum proposed high', 'normally sum proposed seven times declared income acceptable insurance', 'proposals come insurer known source income proposer compared insurance desired', 'service holder normally face problem sources income verifiable', 'case business people assessed income times compared desirable income insurance desired', 'cases insurer times calls assessed income tax returns chartered accountants certificate', 'precautions necessary eliminate possibility moral hazard', 'policy contract policy document detailed document evidence insurance contract mentions terms conditions insurance', 'insured buys policy contract right sum money future delivery', 'insurer promises pay sum money provided course insured keeps promise paying installments premium scheduled', 'preamble insurance contract makes statement clear states policy issued subject conditions privileges printed policy', 'endorsements placed policy shall policy makes reference proposal form saying statements given proposal form basis contract', 'schedule printed policy document identifies office issued policy', 'states policyholder date commencement policy identification number policy called policy number', 'number extremely useful making reference insurer relating policy', 'shall avoid needless delay', 'beneficiarys mentioned address', 'necessary check correct mistake immediately pointed correction', 'mistake address misdirect premium notices future correspondence', 'states nominee date upto premium paid', 'schedule goes mention type policy happening sum assured payable payable', 'course mentions long premium paid', 'policy document signed official insurer dated stamped provision stamp act completely legally enforceable document', 'assignment policy favour person institution effected endorsement policy', 'reassignment subsequent endorsement policyas nomination automatically cancelled assignment reassignment necessary fresh nomination', 'duplicate policy policy document valuable document mortgage', 'loss policy document absolve insurer liability payment policy proceeds claim arises', 'claim settled claimants furnishing indemnity bond jointly surety', 'policy irrevocably lost duplicate policy issued following certain procedure like insurer satisfies circumstances leading loss satisfied insurer insists advertisement news paper production indemnity bond payment policy preparation charges duplicate policy issued', 'generally nomination time taking policy', 'case possible nomination subsequently endorsement policy', 'possible change nomination subsequently endorsement', 'marriage change nomination normally required', 'life insurance legally enforceable contract needs documented details rights obligations parties contract', 'proposal form duly filled signed proposer document forms basis contract', 'time insured pays premium receives premium receipt', 'premium needs paid time non payment premium leads policylapses', 'reinstatement cover called revival policy', 'policy revived policy paid policy reduced sum assured certain conditions', 'policy document mentions rights obligations policyholder', 'agent advised explain provisions policy policyholder', 'wordings policy document technical nature need explaining', 'certain endorsements policy need explained', 'needs explained policy valuable document needs kept safe custody knowledge close relatives']\n",
            "['life insurance is a legally enforceable contract between two parties both of whom are legally qualified to contract', 'it is therefore necessary that the terms and conditions of the agreement must be suitably documented in a manner that would make it clear that both parties to the contract are ad idem ie of the same mind', 'adidem means that both the parties understand the same thing in the same sense or are of the same mind on the same subject', 'there must be consensus or adidem between the parties to the contract', 'this is possible provided all the terms and conditions rights and duties  privileges and obligations are properly documented in terms which can be clearly interpreted in a court of law', 'between two human beings sometime silence means an acceptance', 'but as the insurer is a legal personality entitled to contract verbal discussion between parties to the contract is not possible and hence there is a need for documentation', 'insurance is also a contract of utmost good faith and enforced only in the distant future', 'it is therefore necessary that the declarations made by both the parties should be put in black and white for future reference', 'any suppression willful and material shall make the contract void', 'the insured therefore has a duty to declare all that he knows about himself his health his financial status in answering questions contained in the proposal form and other ancillary documents which may be required by the insurer', 'age is an important factor in deciding the quantum of premium against a policy', 'the document proving the age ie', 'age proof must be reliable and the insured has to undertake as to its truthfulness', 'nonstandard age proofs are those which are comparatively less reliable and therefore the insurer accepts them with a pinch of salt', 'in other words the insurer takes certain precautions before accepting such age proofs as final', 'proof of income is the document may become necessary whenever the sum proposed is very high', 'normally a sum proposed which is seven to eight times of the declared income is acceptable for insurance', 'but proposals do come to the insurer when the known source of income of the proposer is much less compared to the amount of insurance desired', 'a service holder normally does not face this problem as his sources of income are verifiable', 'in case of business people the assessed income is at times much less compared to what is a desirable income for the amount of insurance desired', 'in such cases the insurer at times calls for assessed income tax returns or chartered accountants certificate etc', 'such precautions are necessary to eliminate the possibility of moral hazard', 'policy contract is the policy document is a detailed document and it is the evidence of the insurance contract which mentions all the terms and conditions of the insurance', 'the insured buys not the policy contract but the right to the sum of money and its future delivery', 'the insurer on its part promises to pay a sum of money provided of course the insured keeps its part of promise of paying the installments of premium as scheduled', 'the preamble to the insurance contract makes the above statement clear and states that this policy is issued subject to the conditions and privileges printed on the back of the policy', 'the endorsements placed on the policy shall also be part of the policy and it also makes a reference to the proposal form saying that that the statements given in the proposal form are the basis of the contract', 'the schedule which is printed on the policy document identifies the office which has issued the policy', 'it states the name of the policyholder the date of commencement of the policy an identification number of the policy called policy number', 'this number is extremely useful for making any reference to the insurer relating to this policy', 'this shall avoid needless delay', 'beneficiarys name is also mentioned along with address', 'it is necessary to check that it is correct and any mistake should be immediately pointed out for correction', 'a mistake in the address may misdirect the premium notices and any other future correspondence', 'it also states the name of the nominee and the date upto which premium has to be paid', 'the schedule goes on to mention the type of policy on the happening of which the sum assured is payable and to whom it is payable', 'it of course also mentions when and how long the premium is to be paid', 'the policy document is signed by an official of the insurer and dated and stamped as per the provision of the stamp act to make it a completely legally enforceable document', 'an assignment of a policy in favour of another person or institution can be effected by an endorsement on the policy', 'reassignment can also be done by a subsequent endorsement on the same policyas a nomination is automatically cancelled due to an assignment after reassignment it is necessary to make a fresh nomination', 'in duplicate policy a policy document is a valuable document and can be used for mortgage etc', 'loss of policy document does not absolve the insurer from the liability of payment of policy proceeds when the claim arises', 'the claim can be settled on the claimants furnishing an indemnity bond jointly with one surety', 'if a policy is irrevocably lost a duplicate policy can be issued after following a certain procedure like the insurer satisfies itself of the circumstances leading to loss and being so satisfied the insurer insists upon an advertisement in a news paper production of an indemnity bond and payment of policy preparation charges and there after a duplicate policy is issued', 'generally nomination is made at the time of taking a policy', 'in case it is not done it is possible to make nomination subsequently by an endorsement on the policy', 'it is also possible to change a nomination subsequently by an endorsement', 'after marriage such change in nomination is normally required', 'life insurance being a legally enforceable contract needs to be documented with details of the rights and obligations of the parties to the contract', 'proposal form duly filled in and signed by the proposer is the first document which forms the basis of the contract', 'every time the insured pays the premium he receives a premium receipt', 'the premium needs to be paid in time non payment of premium leads to policylapses', 'reinstatement of the cover is called revival of the policy', 'if the policy is not revived the policy can become a paid up policy for a reduced sum assured under certain conditions', 'the policy document mentions in detail all the rights and obligations of the policyholder', 'the agent is advised to explain the various provisions of the policy to the policyholder', 'the wordings in the policy document are of technical nature and hence the need for explaining', 'if there are certain endorsements on the policy that need to be explained too', 'it needs to be explained that the policy is a valuable document and needs to be kept in safe custody and in the knowledge of the close relatives']\n"
          ]
        }
      ]
    },
    {
      "cell_type": "markdown",
      "source": [
        "#Install Transfomers"
      ],
      "metadata": {
        "id": "amSpRbEoUH90"
      }
    },
    {
      "cell_type": "code",
      "source": [
        "!pip install transformers"
      ],
      "metadata": {
        "colab": {
          "base_uri": "https://localhost:8080/"
        },
        "id": "T1bB6yOAQlz8",
        "outputId": "41c570d1-1e8c-4a22-dc13-fc1aacc23066"
      },
      "execution_count": 6,
      "outputs": [
        {
          "output_type": "stream",
          "name": "stdout",
          "text": [
            "Requirement already satisfied: transformers in /usr/local/lib/python3.10/dist-packages (4.38.2)\n",
            "Requirement already satisfied: filelock in /usr/local/lib/python3.10/dist-packages (from transformers) (3.13.1)\n",
            "Requirement already satisfied: huggingface-hub<1.0,>=0.19.3 in /usr/local/lib/python3.10/dist-packages (from transformers) (0.20.3)\n",
            "Requirement already satisfied: numpy>=1.17 in /usr/local/lib/python3.10/dist-packages (from transformers) (1.25.2)\n",
            "Requirement already satisfied: packaging>=20.0 in /usr/local/lib/python3.10/dist-packages (from transformers) (23.2)\n",
            "Requirement already satisfied: pyyaml>=5.1 in /usr/local/lib/python3.10/dist-packages (from transformers) (6.0.1)\n",
            "Requirement already satisfied: regex!=2019.12.17 in /usr/local/lib/python3.10/dist-packages (from transformers) (2023.12.25)\n",
            "Requirement already satisfied: requests in /usr/local/lib/python3.10/dist-packages (from transformers) (2.31.0)\n",
            "Requirement already satisfied: tokenizers<0.19,>=0.14 in /usr/local/lib/python3.10/dist-packages (from transformers) (0.15.2)\n",
            "Requirement already satisfied: safetensors>=0.4.1 in /usr/local/lib/python3.10/dist-packages (from transformers) (0.4.2)\n",
            "Requirement already satisfied: tqdm>=4.27 in /usr/local/lib/python3.10/dist-packages (from transformers) (4.66.2)\n",
            "Requirement already satisfied: fsspec>=2023.5.0 in /usr/local/lib/python3.10/dist-packages (from huggingface-hub<1.0,>=0.19.3->transformers) (2023.6.0)\n",
            "Requirement already satisfied: typing-extensions>=3.7.4.3 in /usr/local/lib/python3.10/dist-packages (from huggingface-hub<1.0,>=0.19.3->transformers) (4.10.0)\n",
            "Requirement already satisfied: charset-normalizer<4,>=2 in /usr/local/lib/python3.10/dist-packages (from requests->transformers) (3.3.2)\n",
            "Requirement already satisfied: idna<4,>=2.5 in /usr/local/lib/python3.10/dist-packages (from requests->transformers) (3.6)\n",
            "Requirement already satisfied: urllib3<3,>=1.21.1 in /usr/local/lib/python3.10/dist-packages (from requests->transformers) (2.0.7)\n",
            "Requirement already satisfied: certifi>=2017.4.17 in /usr/local/lib/python3.10/dist-packages (from requests->transformers) (2024.2.2)\n"
          ]
        }
      ]
    },
    {
      "cell_type": "markdown",
      "source": [
        "##Import BERTForQuestionAnswering"
      ],
      "metadata": {
        "id": "9uky2Y4DpkUr"
      }
    },
    {
      "cell_type": "code",
      "source": [
        "import torch\n",
        "from transformers import BertForQuestionAnswering\n",
        "model = BertForQuestionAnswering.from_pretrained('bert-large-uncased-whole-word-masking-finetuned-squad')"
      ],
      "metadata": {
        "colab": {
          "base_uri": "https://localhost:8080/",
          "height": 257,
          "referenced_widgets": [
            "280216ce7cbe434d87fb2cc44bca0a99",
            "3d5e7036ab53464a841c41bd6ca38b4d",
            "911de7248c764c05a2b4f3f4c8570162",
            "a7c0a163fd93464782662ae4e07a09f6",
            "87167738812f44dfa8e500540b3c6699",
            "cd33b7f1736543a99574fca5cb346d25",
            "aada72218df2488b9494e8836ab6a759",
            "f36b92d7ae8b4d778ffcd6546f1ed35e",
            "74a26ac8b54d4eee98afd03713b2b07a",
            "169a94f694274a7dabb04da6316b4d5b",
            "b7cce29a252a4a4bb5dbc406891c5deb",
            "6376bb22503b401a985e2eab23bb3164",
            "80127be881b64002ae2e61efc99e828c",
            "ce6600bc9bc44a87a6995f7ad175dc5e",
            "d081378606a84daba0c7f24500d9afe0",
            "81ecb3a5bff94c45895fb5d2cd081756",
            "e57ebc0fb6f6468ba9f752381a070621",
            "aaf71aa8957340f5ab53c3c39d2f8dba",
            "a512fe1815c14176be73b18ae61e912d",
            "6f7a7ffeb80d4eb8a8e43016cc721ad3",
            "e5736c54d2aa4fe990ce09e0c519bd0f",
            "dc03bc673a55468e9aa13810daa25cf3"
          ]
        },
        "id": "EdaZZLytQqqa",
        "outputId": "da23c3d7-ff85-4bcb-f800-1e7b04622fa7"
      },
      "execution_count": 7,
      "outputs": [
        {
          "output_type": "stream",
          "name": "stderr",
          "text": [
            "/usr/local/lib/python3.10/dist-packages/huggingface_hub/utils/_token.py:88: UserWarning: \n",
            "The secret `HF_TOKEN` does not exist in your Colab secrets.\n",
            "To authenticate with the Hugging Face Hub, create a token in your settings tab (https://huggingface.co/settings/tokens), set it as secret in your Google Colab and restart your session.\n",
            "You will be able to reuse this secret in all of your notebooks.\n",
            "Please note that authentication is recommended but still optional to access public models or datasets.\n",
            "  warnings.warn(\n"
          ]
        },
        {
          "output_type": "display_data",
          "data": {
            "text/plain": [
              "config.json:   0%|          | 0.00/443 [00:00<?, ?B/s]"
            ],
            "application/vnd.jupyter.widget-view+json": {
              "version_major": 2,
              "version_minor": 0,
              "model_id": "280216ce7cbe434d87fb2cc44bca0a99"
            }
          },
          "metadata": {}
        },
        {
          "output_type": "display_data",
          "data": {
            "text/plain": [
              "model.safetensors:   0%|          | 0.00/1.34G [00:00<?, ?B/s]"
            ],
            "application/vnd.jupyter.widget-view+json": {
              "version_major": 2,
              "version_minor": 0,
              "model_id": "6376bb22503b401a985e2eab23bb3164"
            }
          },
          "metadata": {}
        },
        {
          "output_type": "stream",
          "name": "stderr",
          "text": [
            "Some weights of the model checkpoint at bert-large-uncased-whole-word-masking-finetuned-squad were not used when initializing BertForQuestionAnswering: ['bert.pooler.dense.bias', 'bert.pooler.dense.weight']\n",
            "- This IS expected if you are initializing BertForQuestionAnswering from the checkpoint of a model trained on another task or with another architecture (e.g. initializing a BertForSequenceClassification model from a BertForPreTraining model).\n",
            "- This IS NOT expected if you are initializing BertForQuestionAnswering from the checkpoint of a model that you expect to be exactly identical (initializing a BertForSequenceClassification model from a BertForSequenceClassification model).\n"
          ]
        }
      ]
    },
    {
      "cell_type": "markdown",
      "source": [
        "##Import BERTTokenizer"
      ],
      "metadata": {
        "id": "PE3FnD5Fppca"
      }
    },
    {
      "cell_type": "code",
      "source": [
        "from transformers import BertTokenizer\n",
        "tokenizer = BertTokenizer.from_pretrained('bert-large-uncased-whole-word-masking-finetuned-squad')"
      ],
      "metadata": {
        "colab": {
          "base_uri": "https://localhost:8080/",
          "height": 113,
          "referenced_widgets": [
            "592b8598aa0e4e8bb1309504060d057e",
            "e6bc1d74509c476cb20b63d71df40d13",
            "d9d07d02b4ed42d79e21df6d1de5f69d",
            "914eadb7352d40748211d333cf6a5f78",
            "d3b1721f11af46408a95602cfb6aa21a",
            "89f46fb00b774923b251e95801cf1276",
            "7458632ff928457d88763abf0f889df7",
            "c66c1a5f7d4949a4b2a84021a9f76510",
            "92391f25eeb74262854ad0d4749b082a",
            "344d865784a847399a8c0ef881737cd7",
            "8f49542b277b497eb5e2fee27dc62977",
            "823519a24f884265b117a54e15194c1b",
            "4c7e0442eb1840cea3f9d546cad23c68",
            "5dcaf5a5b6bf48e8883a5ea2131e051d",
            "8bb6e07dce0e49118117ada7676d2f1d",
            "8d4b0315583243ccb191a436c5644532",
            "0843143c4ce148a6931b4daa9e420109",
            "937959a640f84130b27a863dbe9d26f1",
            "e60cd58155654fc8aa0cf47c95d4c05d",
            "b814d0ad716543fc98e91d3ea7a40b58",
            "0860dc8101414380933e13f327bd922b",
            "8d5c20a3c0004d2696ccee5f1bf048b8",
            "030b44b96ec8462eadba372794cd8355",
            "83298129069f4f3ab9cd4e720ae649b7",
            "ef053e962e92427a92088c16be882507",
            "4c188bb8861246f28856f5e08bdce6cc",
            "d7b4a2d4c95944e4b20ff5afc6e9d087",
            "e6a930a518764193848c9da66ba4e640",
            "dbe02809c3f745f290fda34adf3bcc1b",
            "4bf20448ea04459d8c8fb1f8cea18d2b",
            "a213caadaa0341f28b81e8f0bc1b8d07",
            "b2151a5895ba4da3af76808444b476e9",
            "add55d2c89b14b529d6dd28bfbdbcbec"
          ]
        },
        "id": "i4k8KExbQ1gR",
        "outputId": "ceb9bbe8-2204-468d-ec82-82bb160ea113"
      },
      "execution_count": 8,
      "outputs": [
        {
          "output_type": "display_data",
          "data": {
            "text/plain": [
              "tokenizer_config.json:   0%|          | 0.00/48.0 [00:00<?, ?B/s]"
            ],
            "application/vnd.jupyter.widget-view+json": {
              "version_major": 2,
              "version_minor": 0,
              "model_id": "592b8598aa0e4e8bb1309504060d057e"
            }
          },
          "metadata": {}
        },
        {
          "output_type": "display_data",
          "data": {
            "text/plain": [
              "vocab.txt:   0%|          | 0.00/232k [00:00<?, ?B/s]"
            ],
            "application/vnd.jupyter.widget-view+json": {
              "version_major": 2,
              "version_minor": 0,
              "model_id": "823519a24f884265b117a54e15194c1b"
            }
          },
          "metadata": {}
        },
        {
          "output_type": "display_data",
          "data": {
            "text/plain": [
              "tokenizer.json:   0%|          | 0.00/466k [00:00<?, ?B/s]"
            ],
            "application/vnd.jupyter.widget-view+json": {
              "version_major": 2,
              "version_minor": 0,
              "model_id": "030b44b96ec8462eadba372794cd8355"
            }
          },
          "metadata": {}
        }
      ]
    },
    {
      "cell_type": "markdown",
      "source": [
        "#Example:\n",
        "Answer and Question"
      ],
      "metadata": {
        "id": "2CFg3oIoUMHv"
      }
    },
    {
      "cell_type": "code",
      "source": [
        "answer_text = \"\"\"The ability of the machine to infer knowledge from\n",
        "the user documents can be tested based on its ability to answer\n",
        "the question asked. Conventional Artificial Neural Network\n",
        "(ANN) models for knowledge extraction only answer to the\n",
        "questions which are simple and objective as they don't analyze\n",
        "the questions and don't try to understand what really the content\n",
        "of document mean. The proposed question answering system\n",
        "(QAS) uses deep cases along with ANN to understand the\n",
        "contents of the documents. We divide the sentences of natural\n",
        "language into knowledge units and assign deep case to each word\n",
        "to improve the quality of knowledge extraction.\"\"\"\n",
        "\n",
        "question = \"How to improve the quality of knowledge extraction?\""
      ],
      "metadata": {
        "id": "Q7IE6q3mQ5n4"
      },
      "execution_count": 9,
      "outputs": []
    },
    {
      "cell_type": "markdown",
      "source": [
        "##Tokenize answer and question\n",
        "with tokenizer.encode with max_length = 512"
      ],
      "metadata": {
        "id": "MRhDneuqpxG2"
      }
    },
    {
      "cell_type": "code",
      "source": [
        "input_ids = tokenizer.encode(question, answer_text, max_length=512, truncation=True)\n",
        "print('The input has a total of {:} tokens.'.format(len(input_ids)))"
      ],
      "metadata": {
        "colab": {
          "base_uri": "https://localhost:8080/"
        },
        "id": "Kgkmb5JXRBXT",
        "outputId": "197ed939-5be9-4ebe-eac9-ea3f7e85848d"
      },
      "execution_count": 10,
      "outputs": [
        {
          "output_type": "stream",
          "name": "stdout",
          "text": [
            "The input has a total of 130 tokens.\n"
          ]
        }
      ]
    },
    {
      "cell_type": "markdown",
      "source": [
        "##Get idx and tokens from Tokenizer"
      ],
      "metadata": {
        "id": "5QOAgisop2DC"
      }
    },
    {
      "cell_type": "code",
      "source": [
        "tokens = tokenizer.convert_ids_to_tokens(input_ids)\n",
        "for token, id in zip(tokens, input_ids):\n",
        "    if id == tokenizer.sep_token_id:\n",
        "        print('')\n",
        "    print('{:<12} {:>6,}'.format(token, id))\n",
        "\n",
        "    if id == tokenizer.sep_token_id:\n",
        "        print('')\n",
        "\n",
        "#retrurn token id"
      ],
      "metadata": {
        "colab": {
          "base_uri": "https://localhost:8080/"
        },
        "id": "wHYiJwu4RGMU",
        "outputId": "9d10a646-695f-4fef-cf13-ec25e3672580"
      },
      "execution_count": 11,
      "outputs": [
        {
          "output_type": "stream",
          "name": "stdout",
          "text": [
            "[CLS]           101\n",
            "how           2,129\n",
            "to            2,000\n",
            "improve       5,335\n",
            "the           1,996\n",
            "quality       3,737\n",
            "of            1,997\n",
            "knowledge     3,716\n",
            "extraction   14,676\n",
            "?             1,029\n",
            "\n",
            "[SEP]           102\n",
            "\n",
            "the           1,996\n",
            "ability       3,754\n",
            "of            1,997\n",
            "the           1,996\n",
            "machine       3,698\n",
            "to            2,000\n",
            "in            1,999\n",
            "##fer         7,512\n",
            "knowledge     3,716\n",
            "from          2,013\n",
            "the           1,996\n",
            "user          5,310\n",
            "documents     5,491\n",
            "can           2,064\n",
            "be            2,022\n",
            "tested        7,718\n",
            "based         2,241\n",
            "on            2,006\n",
            "its           2,049\n",
            "ability       3,754\n",
            "to            2,000\n",
            "answer        3,437\n",
            "the           1,996\n",
            "question      3,160\n",
            "asked         2,356\n",
            ".             1,012\n",
            "conventional  7,511\n",
            "artificial    7,976\n",
            "neural       15,756\n",
            "network       2,897\n",
            "(             1,006\n",
            "ann           5,754\n",
            ")             1,007\n",
            "models        4,275\n",
            "for           2,005\n",
            "knowledge     3,716\n",
            "extraction   14,676\n",
            "only          2,069\n",
            "answer        3,437\n",
            "to            2,000\n",
            "the           1,996\n",
            "questions     3,980\n",
            "which         2,029\n",
            "are           2,024\n",
            "simple        3,722\n",
            "and           1,998\n",
            "objective     7,863\n",
            "as            2,004\n",
            "they          2,027\n",
            "don           2,123\n",
            "'             1,005\n",
            "t             1,056\n",
            "analyze      17,908\n",
            "the           1,996\n",
            "questions     3,980\n",
            "and           1,998\n",
            "don           2,123\n",
            "'             1,005\n",
            "t             1,056\n",
            "try           3,046\n",
            "to            2,000\n",
            "understand    3,305\n",
            "what          2,054\n",
            "really        2,428\n",
            "the           1,996\n",
            "content       4,180\n",
            "of            1,997\n",
            "document      6,254\n",
            "mean          2,812\n",
            ".             1,012\n",
            "the           1,996\n",
            "proposed      3,818\n",
            "question      3,160\n",
            "answering    10,739\n",
            "system        2,291\n",
            "(             1,006\n",
            "q             1,053\n",
            "##as          3,022\n",
            ")             1,007\n",
            "uses          3,594\n",
            "deep          2,784\n",
            "cases         3,572\n",
            "along         2,247\n",
            "with          2,007\n",
            "ann           5,754\n",
            "to            2,000\n",
            "understand    3,305\n",
            "the           1,996\n",
            "contents      8,417\n",
            "of            1,997\n",
            "the           1,996\n",
            "documents     5,491\n",
            ".             1,012\n",
            "we            2,057\n",
            "divide       11,443\n",
            "the           1,996\n",
            "sentences    11,746\n",
            "of            1,997\n",
            "natural       3,019\n",
            "language      2,653\n",
            "into          2,046\n",
            "knowledge     3,716\n",
            "units         3,197\n",
            "and           1,998\n",
            "assign       23,911\n",
            "deep          2,784\n",
            "case          2,553\n",
            "to            2,000\n",
            "each          2,169\n",
            "word          2,773\n",
            "to            2,000\n",
            "improve       5,335\n",
            "the           1,996\n",
            "quality       3,737\n",
            "of            1,997\n",
            "knowledge     3,716\n",
            "extraction   14,676\n",
            ".             1,012\n",
            "\n",
            "[SEP]           102\n",
            "\n"
          ]
        }
      ]
    },
    {
      "cell_type": "code",
      "source": [
        "sep_index = input_ids.index(tokenizer.sep_token_id)\n",
        "num_seg_a = sep_index + 1\n",
        "num_seg_b = len(input_ids) - num_seg_a\n",
        "#Here We Construct the list of 0s and 1s.\n",
        "segment_ids = [0]*num_seg_a + [1]*num_seg_b\n",
        "# There should be a segment_id for every input token.\n",
        "assert len(segment_ids) == len(input_ids)"
      ],
      "metadata": {
        "id": "kaOhxZ2KRJKm"
      },
      "execution_count": 12,
      "outputs": []
    },
    {
      "cell_type": "markdown",
      "source": [
        "There should be a segment_id for every input token."
      ],
      "metadata": {
        "id": "wYW5Iq8vv3GR"
      }
    },
    {
      "cell_type": "markdown",
      "source": [
        "#Find Result: Answer\n",
        "Start and End Scores using Model"
      ],
      "metadata": {
        "id": "2qWG7xZFv43D"
      }
    },
    {
      "cell_type": "code",
      "source": [
        "start_scores, end_scores = model(torch.tensor([input_ids]), return_dict=False ,token_type_ids=torch.tensor([segment_ids]))"
      ],
      "metadata": {
        "id": "JO8mOWNmRlIJ"
      },
      "execution_count": 13,
      "outputs": []
    },
    {
      "cell_type": "markdown",
      "source": [
        "##Result: Start and End of Answer from Model\n",
        "Score the question with the context (text or answer)"
      ],
      "metadata": {
        "id": "pFhJCo7mp-7Q"
      }
    },
    {
      "cell_type": "code",
      "source": [
        "answer_start = torch.argmax(start_scores)\n",
        "answer_end = torch.argmax(end_scores)\n",
        "\n",
        "answer = ' '.join(tokens[answer_start:answer_end+1])\n",
        "\n",
        "print('Answer: \"' + answer + '\"')"
      ],
      "metadata": {
        "colab": {
          "base_uri": "https://localhost:8080/"
        },
        "id": "q_SWLhEvRpLi",
        "outputId": "4a43e2cd-528e-4af6-9168-9c6c9a1614a9"
      },
      "execution_count": 14,
      "outputs": [
        {
          "output_type": "stream",
          "name": "stdout",
          "text": [
            "Answer: \"divide the sentences of natural language into knowledge units and assign deep case to each word\"\n"
          ]
        }
      ]
    },
    {
      "cell_type": "markdown",
      "source": [
        "##Return Result: Answer with Token iDs"
      ],
      "metadata": {
        "id": "hUhsZo_lwUdb"
      }
    },
    {
      "cell_type": "code",
      "source": [
        "answer = tokens[answer_start]\n",
        "answer = tokens[answer_start]\n",
        "\n",
        "# Select the remaining answer tokens and join them with whitespace.\n",
        "for i in range(answer_start + 1, answer_end + 1):\n",
        "  # If it's a subword token, then recombine it with the previous token.\n",
        "    if tokens[i][0:2] == '##':\n",
        "        answer += tokens[i][2:]\n",
        "        # Otherwise, add a space then the token.\n",
        "    else:\n",
        "        answer += ' ' + tokens[i]\n",
        "print('Answer: \"' + answer + '\"')"
      ],
      "metadata": {
        "colab": {
          "base_uri": "https://localhost:8080/"
        },
        "id": "nsJooOh2SF7h",
        "outputId": "9ca2eeb2-6dab-46af-f220-63a8749c14fb"
      },
      "execution_count": 15,
      "outputs": [
        {
          "output_type": "stream",
          "name": "stdout",
          "text": [
            "Answer: \"divide the sentences of natural language into knowledge units and assign deep case to each word\"\n"
          ]
        }
      ]
    },
    {
      "cell_type": "markdown",
      "source": [
        "#Combine All: answer_question Function"
      ],
      "metadata": {
        "id": "Owyw6AgKqDMX"
      }
    },
    {
      "cell_type": "code",
      "source": [
        "def answer_question(question, answer_text):\n",
        "\n",
        "    input_ids = tokenizer.encode(question, answer_text, max_length=512, truncation=True)\n",
        "\n",
        "    print('Query has {:,} tokens.\\n'.format(len(input_ids)))\n",
        "\n",
        "    sep_index = input_ids.index(tokenizer.sep_token_id)\n",
        "\n",
        "    num_seg_a = sep_index + 1\n",
        "\n",
        "    num_seg_b = len(input_ids) - num_seg_a\n",
        "\n",
        "    segment_ids = [0]*num_seg_a + [1]*num_seg_b\n",
        "\n",
        "    assert len(segment_ids) == len(input_ids)\n",
        "\n",
        "    start_scores, end_scores = model(torch.tensor([input_ids]), return_dict=False, token_type_ids=torch.tensor([segment_ids]))\n",
        "\n",
        "    all_tokens = tokenizer.convert_ids_to_tokens(input_ids)\n",
        "\n",
        "    #print(' '.join(all_tokens[torch.argmax(start_scores) : torch.argmax(end_scores)+1]))\n",
        "    #print(f'score: {torch.max(start_scores)}')\n",
        "    score = float(torch.max(start_scores))\n",
        "    answer_start = torch.argmax(start_scores)\n",
        "    answer_end = torch.argmax(end_scores)\n",
        "    tokens = tokenizer.convert_ids_to_tokens(input_ids)\n",
        "    answer = tokens[answer_start]\n",
        "\n",
        "    for i in range(answer_start + 1, answer_end + 1):\n",
        "\n",
        "        if tokens[i][0:2] == ' ':\n",
        "            answer += tokens[i][2:]\n",
        "\n",
        "        else:\n",
        "            answer += ' ' + tokens[i]\n",
        "    return answer, score\n",
        "    #print('Answer: \"' + answer + '\"')"
      ],
      "metadata": {
        "id": "ZqZvpyr2SHEi"
      },
      "execution_count": 16,
      "outputs": []
    },
    {
      "cell_type": "markdown",
      "source": [
        "##Apply"
      ],
      "metadata": {
        "id": "z-nhnMLRwfKd"
      }
    },
    {
      "cell_type": "code",
      "source": [
        "answer_question(question, answer_text)"
      ],
      "metadata": {
        "colab": {
          "base_uri": "https://localhost:8080/"
        },
        "id": "nBcWwNLaSJd9",
        "outputId": "565afbc7-fe32-4421-e0bf-3637e9f8023b"
      },
      "execution_count": 17,
      "outputs": [
        {
          "output_type": "stream",
          "name": "stdout",
          "text": [
            "Query has 130 tokens.\n",
            "\n"
          ]
        },
        {
          "output_type": "execute_result",
          "data": {
            "text/plain": [
              "('divide the sentences of natural language into knowledge units and assign deep case to each word',\n",
              " 6.490677833557129)"
            ]
          },
          "metadata": {},
          "execution_count": 17
        }
      ]
    },
    {
      "cell_type": "markdown",
      "source": [
        "#Limitation of BERT\n",
        "BERT is 512 tokens to process. how to improve it?\n",
        "\n",
        "we can split the sentences according to tokens. split upto 512 tokens after that we need to add some special token like [sep] [cls]"
      ],
      "metadata": {
        "id": "4wpRdBWOU1iH"
      }
    },
    {
      "cell_type": "code",
      "source": [
        "pdf_txt"
      ],
      "metadata": {
        "colab": {
          "base_uri": "https://localhost:8080/",
          "height": 122
        },
        "id": "4sLVwxyVSYKn",
        "outputId": "7a9024e6-c18b-4714-93c4-67d621b3a01c"
      },
      "execution_count": 18,
      "outputs": [
        {
          "output_type": "execute_result",
          "data": {
            "text/plain": [
              "'Life insurance is a legally enforceable contract between two parties both of whom are legally qualified to contract. It is therefore, necessary that the terms and conditions of the agreement must be suitably documented in a manner that would make it clear that both parties to the contract are Ad- idem i.e., of the same mind. Ad-Idem means that both the parties understand the same thing in the same sense or are of the same mind on the same subject. There must be consensus or Ad-Idem between the parties to the contract.\\nThis is possible provided all the terms and conditions, rights and duties - privileges and obligations are properly documented in terms which can be clearly interpreted in a court of law. Between two human beings sometime silence means an acceptance. But as the insurer is a legal personality entitled to contract verbal discussion between parties to the contract is not possible and hence there is a need for documentation.\\nInsurance is also a contract of utmost good faith and enforced only in the distant future. It is therefore necessary that the declarations made by both the parties should be put in black and white for future reference. Any suppression, willful and material shall make the contract void. The insured, therefore, has a duty to declare all that he knows about himself, his health, his financial status in answering questions contained in the proposal form and other ancillary documents which may be required by the insurer.\\nAge is an important factor in deciding the quantum of premium against a policy. The document proving the age, i.e. age proof must be reliable and the insured has to undertake as to its truthfulness.\\nNon-standard age proofs are those which are comparatively less reliable and therefore the insurer accepts them with a pinch of salt. In other words the insurer takes certain precautions before accepting such age proofs as final.\\nProof of income is the document may become necessary whenever the sum proposed is very high. Normally a sum proposed which is seven to eight times of the declared income is acceptable for insurance. But proposals do come to the insurer when the known source of income of the proposer is much less compared to the amount of insurance desired. A service holder normally does not face this problem as his sources of income are verifiable.\\nIn case of business people, the assessed income is at times much less compared to what is a desirable income for the amount of insurance desired. In such cases the insurer at times calls for assessed income tax returns, or Chartered Accountant’s certificate etc. Such precautions are necessary to eliminate the possibility of moral hazard.\\nPolicy Contract is the policy document is a detailed document and it is the Evidence of the insurance contract which mentions all the terms and conditions of the insurance. The insured buys not the policy contract, but the right to the sum of money and its future delivery. The insurer on its part promises to pay a sum of money, provided of course the insured keeps its part of promise of paying the installments of premium as scheduled.\\nThe pre-amble to the insurance contract makes the above statement clear and states that this policy is issued subject to the conditions and privileges printed on the back of the policy. The endorsements placed on the policy shall also be part of the policy and it also makes a reference to the proposal form saying that that the statements given in the proposal form are the basis of the contract.\\nThe schedule which is printed on the policy document identifies the office which has issued the policy. It states the name of the policyholder, the date of commencement of the policy, an identification number of the policy called policy number. This number is extremely useful for making any reference to the insurer relating to this policy. This shall avoid needless delay.\\nBeneficiary’s name is also mentioned along with address.\\nIt is necessary to check that it is correct and any mistake should be immediately pointed out for correction. A mistake in the address may misdirect the premium notices and any other future correspondence. It also states the name of the nominee and the date upto which premium has to be paid. The schedule goes on to mention, the type of policy, on the happening of which, the sum assured is payable and to whom it is payable. It of course also mentions when and how long the premium is to be paid.\\nThe policy document is signed by an official of the insurer and dated and stamped as per the provision of the Stamp Act to make it a completely legally enforceable document.\\nAn assignment of a policy in favour of another person or institution can be effected by an endorsement on the policy. Re-assignment can also be done by a subsequent endorsement on the same policy.As a nomination is automatically cancelled due to an assignment, after re-assignment, it is necessary to make a fresh nomination.\\nIn Duplicate policy a policy document is a valuable document and can be used for mortgage etc. Loss of policy document does not absolve the insurer from the liability of payment of policy proceeds when the claim arises. The claim can be settled on the claimants, furnishing an indemnity bond jointly with one surety.\\nIf a policy is irrevocably lost, a duplicate policy can be issued, after following a certain procedure like the insurer satisfies itself of the circumstances leading to loss and being so satisfied the insurer insists upon an advertisement in a news paper, production of an indemnity bond and payment of policy preparation charges and there after a duplicate policy is issued.\\nGenerally nomination is made at the time of taking a policy. In case it is not done, it is possible to make nomination subsequently by an endorsement on the policy. It is also possible to change a nomination subsequently by an endorsement. After marriage, such change in nomination is normally required.\\nLife insurance being a legally enforceable contract, needs to be documented with details of the rights and obligations of the parties to the contract. Proposal form duly filled in and signed by the proposer is the first document which forms the basis of the contract.\\nEvery time, the insured pays the premium, he receives a premium receipt. The premium needs to be paid in time, non- payment of premium leads to policy-lapses. Re-instatement of the cover is called revival of the policy.\\nIf the policy is not revived, the policy can become a paid up policy for a reduced sum assured under certain conditions.\\nThe policy document mentions in detail all the rights and obligations of the policyholder. The agent is advised to explain the various provisions of the policy to the policyholder.\\nThe wordings in the policy document are of technical nature and hence the need for explaining. If there are certain endorsements on the policy, that need to be explained too.\\nIt needs to be explained that the policy is a valuable document and needs to be kept in safe custody and in the knowledge of the close relatives.\\n'"
            ],
            "application/vnd.google.colaboratory.intrinsic+json": {
              "type": "string"
            }
          },
          "metadata": {},
          "execution_count": 18
        }
      ]
    },
    {
      "cell_type": "code",
      "source": [
        "user_question"
      ],
      "metadata": {
        "colab": {
          "base_uri": "https://localhost:8080/",
          "height": 35
        },
        "id": "pQlIHODwSa2h",
        "outputId": "f493d2ee-2cce-41bd-eb74-f12b99e5ff0c"
      },
      "execution_count": 19,
      "outputs": [
        {
          "output_type": "execute_result",
          "data": {
            "text/plain": [
              "'When can a duplicate policy be issued?'"
            ],
            "application/vnd.google.colaboratory.intrinsic+json": {
              "type": "string"
            }
          },
          "metadata": {},
          "execution_count": 19
        }
      ]
    },
    {
      "cell_type": "markdown",
      "source": [
        "##tokenizer.encode with [sep] and [cls] at the end"
      ],
      "metadata": {
        "id": "Qja4nwA1wpEB"
      }
    },
    {
      "cell_type": "code",
      "source": [
        "tokens = tokenizer.encode_plus(user_question, pdf_txt, add_special_tokens=True, max_length=512, truncation=True, padding=\"max_length\")\n",
        "tokens"
      ],
      "metadata": {
        "colab": {
          "base_uri": "https://localhost:8080/"
        },
        "id": "mRQ694snSc9J",
        "outputId": "17dab6d4-9d15-49bd-91b3-9aa7dab784a8"
      },
      "execution_count": 20,
      "outputs": [
        {
          "output_type": "stream",
          "name": "stderr",
          "text": [
            "Be aware, overflowing tokens are not returned for the setting you have chosen, i.e. sequence pairs with the 'longest_first' truncation strategy. So the returned list will always be empty even if some tokens have been removed.\n"
          ]
        },
        {
          "output_type": "execute_result",
          "data": {
            "text/plain": [
              "{'input_ids': [101, 2043, 2064, 1037, 24473, 3343, 2022, 3843, 1029, 102, 2166, 5427, 2003, 1037, 10142, 16306, 3085, 3206, 2090, 2048, 4243, 2119, 1997, 3183, 2024, 10142, 4591, 2000, 3206, 1012, 2009, 2003, 3568, 1010, 4072, 2008, 1996, 3408, 1998, 3785, 1997, 1996, 3820, 2442, 2022, 4848, 8231, 8832, 1999, 1037, 5450, 2008, 2052, 2191, 2009, 3154, 2008, 2119, 4243, 2000, 1996, 3206, 2024, 4748, 1011, 8909, 6633, 1045, 1012, 1041, 1012, 1010, 1997, 1996, 2168, 2568, 1012, 4748, 1011, 8909, 6633, 2965, 2008, 2119, 1996, 4243, 3305, 1996, 2168, 2518, 1999, 1996, 2168, 3168, 2030, 2024, 1997, 1996, 2168, 2568, 2006, 1996, 2168, 3395, 1012, 2045, 2442, 2022, 10465, 2030, 4748, 1011, 8909, 6633, 2090, 1996, 4243, 2000, 1996, 3206, 1012, 2023, 2003, 2825, 3024, 2035, 1996, 3408, 1998, 3785, 1010, 2916, 1998, 5704, 1011, 14310, 1998, 14422, 2024, 7919, 8832, 1999, 3408, 2029, 2064, 2022, 4415, 10009, 1999, 1037, 2457, 1997, 2375, 1012, 2090, 2048, 2529, 9552, 8811, 4223, 2965, 2019, 9920, 1012, 2021, 2004, 1996, 16021, 27595, 2003, 1037, 3423, 6180, 4709, 2000, 3206, 12064, 6594, 2090, 4243, 2000, 1996, 3206, 2003, 2025, 2825, 1998, 6516, 2045, 2003, 1037, 2342, 2005, 12653, 1012, 5427, 2003, 2036, 1037, 3206, 1997, 27917, 2204, 4752, 1998, 16348, 2069, 1999, 1996, 6802, 2925, 1012, 2009, 2003, 3568, 4072, 2008, 1996, 8170, 2015, 2081, 2011, 2119, 1996, 4243, 2323, 2022, 2404, 1999, 2304, 1998, 2317, 2005, 2925, 4431, 1012, 2151, 16341, 1010, 2097, 3993, 1998, 3430, 4618, 2191, 1996, 3206, 11675, 1012, 1996, 16021, 12165, 1010, 3568, 1010, 2038, 1037, 4611, 2000, 13520, 2035, 2008, 2002, 4282, 2055, 2370, 1010, 2010, 2740, 1010, 2010, 3361, 3570, 1999, 10739, 3980, 4838, 1999, 1996, 6378, 2433, 1998, 2060, 2019, 6895, 24435, 5491, 2029, 2089, 2022, 3223, 2011, 1996, 16021, 27595, 1012, 2287, 2003, 2019, 2590, 5387, 1999, 10561, 1996, 8559, 1997, 12882, 2114, 1037, 3343, 1012, 1996, 6254, 13946, 1996, 2287, 1010, 1045, 1012, 1041, 1012, 2287, 6947, 2442, 2022, 10539, 1998, 1996, 16021, 12165, 2038, 2000, 16617, 2004, 2000, 2049, 3606, 20938, 1012, 2512, 1011, 3115, 2287, 6947, 2015, 2024, 2216, 2029, 2024, 20172, 2625, 10539, 1998, 3568, 1996, 16021, 27595, 13385, 2068, 2007, 1037, 18392, 1997, 5474, 1012, 1999, 2060, 2616, 1996, 16021, 27595, 3138, 3056, 29361, 2077, 10564, 2107, 2287, 6947, 2015, 2004, 2345, 1012, 6947, 1997, 3318, 2003, 1996, 6254, 2089, 2468, 4072, 7188, 1996, 7680, 3818, 2003, 2200, 2152, 1012, 5373, 1037, 7680, 3818, 2029, 2003, 2698, 2000, 2809, 2335, 1997, 1996, 4161, 3318, 2003, 11701, 2005, 5427, 1012, 2021, 10340, 2079, 2272, 2000, 1996, 16021, 27595, 2043, 1996, 2124, 3120, 1997, 3318, 1997, 1996, 16599, 2099, 2003, 2172, 2625, 4102, 2000, 1996, 3815, 1997, 5427, 9059, 1012, 1037, 2326, 9111, 5373, 2515, 2025, 2227, 2023, 3291, 2004, 2010, 4216, 1997, 3318, 2024, 2310, 3089, 22749, 3468, 1012, 1999, 2553, 1997, 2449, 2111, 1010, 1996, 14155, 3318, 2003, 2012, 2335, 2172, 2625, 4102, 2000, 2054, 2003, 1037, 16166, 3318, 2005, 1996, 3815, 1997, 5427, 9059, 1012, 1999, 2107, 3572, 1996, 16021, 27595, 2012, 2335, 4455, 2005, 14155, 3318, 4171, 5651, 1010, 102], 'token_type_ids': [0, 0, 0, 0, 0, 0, 0, 0, 0, 0, 1, 1, 1, 1, 1, 1, 1, 1, 1, 1, 1, 1, 1, 1, 1, 1, 1, 1, 1, 1, 1, 1, 1, 1, 1, 1, 1, 1, 1, 1, 1, 1, 1, 1, 1, 1, 1, 1, 1, 1, 1, 1, 1, 1, 1, 1, 1, 1, 1, 1, 1, 1, 1, 1, 1, 1, 1, 1, 1, 1, 1, 1, 1, 1, 1, 1, 1, 1, 1, 1, 1, 1, 1, 1, 1, 1, 1, 1, 1, 1, 1, 1, 1, 1, 1, 1, 1, 1, 1, 1, 1, 1, 1, 1, 1, 1, 1, 1, 1, 1, 1, 1, 1, 1, 1, 1, 1, 1, 1, 1, 1, 1, 1, 1, 1, 1, 1, 1, 1, 1, 1, 1, 1, 1, 1, 1, 1, 1, 1, 1, 1, 1, 1, 1, 1, 1, 1, 1, 1, 1, 1, 1, 1, 1, 1, 1, 1, 1, 1, 1, 1, 1, 1, 1, 1, 1, 1, 1, 1, 1, 1, 1, 1, 1, 1, 1, 1, 1, 1, 1, 1, 1, 1, 1, 1, 1, 1, 1, 1, 1, 1, 1, 1, 1, 1, 1, 1, 1, 1, 1, 1, 1, 1, 1, 1, 1, 1, 1, 1, 1, 1, 1, 1, 1, 1, 1, 1, 1, 1, 1, 1, 1, 1, 1, 1, 1, 1, 1, 1, 1, 1, 1, 1, 1, 1, 1, 1, 1, 1, 1, 1, 1, 1, 1, 1, 1, 1, 1, 1, 1, 1, 1, 1, 1, 1, 1, 1, 1, 1, 1, 1, 1, 1, 1, 1, 1, 1, 1, 1, 1, 1, 1, 1, 1, 1, 1, 1, 1, 1, 1, 1, 1, 1, 1, 1, 1, 1, 1, 1, 1, 1, 1, 1, 1, 1, 1, 1, 1, 1, 1, 1, 1, 1, 1, 1, 1, 1, 1, 1, 1, 1, 1, 1, 1, 1, 1, 1, 1, 1, 1, 1, 1, 1, 1, 1, 1, 1, 1, 1, 1, 1, 1, 1, 1, 1, 1, 1, 1, 1, 1, 1, 1, 1, 1, 1, 1, 1, 1, 1, 1, 1, 1, 1, 1, 1, 1, 1, 1, 1, 1, 1, 1, 1, 1, 1, 1, 1, 1, 1, 1, 1, 1, 1, 1, 1, 1, 1, 1, 1, 1, 1, 1, 1, 1, 1, 1, 1, 1, 1, 1, 1, 1, 1, 1, 1, 1, 1, 1, 1, 1, 1, 1, 1, 1, 1, 1, 1, 1, 1, 1, 1, 1, 1, 1, 1, 1, 1, 1, 1, 1, 1, 1, 1, 1, 1, 1, 1, 1, 1, 1, 1, 1, 1, 1, 1, 1, 1, 1, 1, 1, 1, 1, 1, 1, 1, 1, 1, 1, 1, 1, 1, 1, 1, 1, 1, 1, 1, 1, 1, 1, 1, 1, 1, 1, 1, 1, 1, 1, 1, 1, 1, 1, 1, 1, 1, 1, 1, 1, 1, 1, 1, 1, 1, 1, 1, 1, 1, 1, 1, 1, 1, 1, 1, 1, 1, 1, 1, 1, 1, 1, 1, 1, 1, 1, 1, 1, 1, 1, 1, 1, 1, 1], 'attention_mask': [1, 1, 1, 1, 1, 1, 1, 1, 1, 1, 1, 1, 1, 1, 1, 1, 1, 1, 1, 1, 1, 1, 1, 1, 1, 1, 1, 1, 1, 1, 1, 1, 1, 1, 1, 1, 1, 1, 1, 1, 1, 1, 1, 1, 1, 1, 1, 1, 1, 1, 1, 1, 1, 1, 1, 1, 1, 1, 1, 1, 1, 1, 1, 1, 1, 1, 1, 1, 1, 1, 1, 1, 1, 1, 1, 1, 1, 1, 1, 1, 1, 1, 1, 1, 1, 1, 1, 1, 1, 1, 1, 1, 1, 1, 1, 1, 1, 1, 1, 1, 1, 1, 1, 1, 1, 1, 1, 1, 1, 1, 1, 1, 1, 1, 1, 1, 1, 1, 1, 1, 1, 1, 1, 1, 1, 1, 1, 1, 1, 1, 1, 1, 1, 1, 1, 1, 1, 1, 1, 1, 1, 1, 1, 1, 1, 1, 1, 1, 1, 1, 1, 1, 1, 1, 1, 1, 1, 1, 1, 1, 1, 1, 1, 1, 1, 1, 1, 1, 1, 1, 1, 1, 1, 1, 1, 1, 1, 1, 1, 1, 1, 1, 1, 1, 1, 1, 1, 1, 1, 1, 1, 1, 1, 1, 1, 1, 1, 1, 1, 1, 1, 1, 1, 1, 1, 1, 1, 1, 1, 1, 1, 1, 1, 1, 1, 1, 1, 1, 1, 1, 1, 1, 1, 1, 1, 1, 1, 1, 1, 1, 1, 1, 1, 1, 1, 1, 1, 1, 1, 1, 1, 1, 1, 1, 1, 1, 1, 1, 1, 1, 1, 1, 1, 1, 1, 1, 1, 1, 1, 1, 1, 1, 1, 1, 1, 1, 1, 1, 1, 1, 1, 1, 1, 1, 1, 1, 1, 1, 1, 1, 1, 1, 1, 1, 1, 1, 1, 1, 1, 1, 1, 1, 1, 1, 1, 1, 1, 1, 1, 1, 1, 1, 1, 1, 1, 1, 1, 1, 1, 1, 1, 1, 1, 1, 1, 1, 1, 1, 1, 1, 1, 1, 1, 1, 1, 1, 1, 1, 1, 1, 1, 1, 1, 1, 1, 1, 1, 1, 1, 1, 1, 1, 1, 1, 1, 1, 1, 1, 1, 1, 1, 1, 1, 1, 1, 1, 1, 1, 1, 1, 1, 1, 1, 1, 1, 1, 1, 1, 1, 1, 1, 1, 1, 1, 1, 1, 1, 1, 1, 1, 1, 1, 1, 1, 1, 1, 1, 1, 1, 1, 1, 1, 1, 1, 1, 1, 1, 1, 1, 1, 1, 1, 1, 1, 1, 1, 1, 1, 1, 1, 1, 1, 1, 1, 1, 1, 1, 1, 1, 1, 1, 1, 1, 1, 1, 1, 1, 1, 1, 1, 1, 1, 1, 1, 1, 1, 1, 1, 1, 1, 1, 1, 1, 1, 1, 1, 1, 1, 1, 1, 1, 1, 1, 1, 1, 1, 1, 1, 1, 1, 1, 1, 1, 1, 1, 1, 1, 1, 1, 1, 1, 1, 1, 1, 1, 1, 1, 1, 1, 1, 1, 1, 1, 1, 1, 1, 1, 1, 1, 1, 1, 1, 1, 1, 1, 1, 1, 1, 1, 1, 1, 1, 1, 1, 1, 1, 1, 1, 1, 1, 1, 1]}"
            ]
          },
          "metadata": {},
          "execution_count": 20
        }
      ]
    },
    {
      "cell_type": "markdown",
      "source": [
        "##What we added?\n",
        "It return a dictionary containing three key-value pairs, input_ids , token_type_ids , and attention_mask . We have also added return_tensors='pt' to return PyTorch tensors from the tokenizer (rather than Python lists)."
      ],
      "metadata": {
        "id": "e3gWmJWfVdKH"
      }
    },
    {
      "cell_type": "code",
      "source": [
        "tokens = tokenizer.encode_plus(pdf_txt, add_special_tokens=False, return_tensors='pt')\n",
        "tokens"
      ],
      "metadata": {
        "colab": {
          "base_uri": "https://localhost:8080/"
        },
        "id": "0SU7t_zGSf-l",
        "outputId": "6f47ec37-6db0-4a71-f5d8-b691d17b49fa"
      },
      "execution_count": 21,
      "outputs": [
        {
          "output_type": "stream",
          "name": "stderr",
          "text": [
            "Token indices sequence length is longer than the specified maximum sequence length for this model (1395 > 512). Running this sequence through the model will result in indexing errors\n"
          ]
        },
        {
          "output_type": "execute_result",
          "data": {
            "text/plain": [
              "{'input_ids': tensor([[2166, 5427, 2003,  ..., 2485, 9064, 1012]]), 'token_type_ids': tensor([[0, 0, 0,  ..., 0, 0, 0]]), 'attention_mask': tensor([[1, 1, 1,  ..., 1, 1, 1]])}"
            ]
          },
          "metadata": {},
          "execution_count": 21
        }
      ]
    },
    {
      "cell_type": "code",
      "source": [
        "input_id_chunks = tokens['input_ids'][0].split(510)\n",
        "mask_chunks = tokens['attention_mask'][0].split(510)\n",
        "\n",
        "for tensor in input_id_chunks:\n",
        "  print(len(tensor))"
      ],
      "metadata": {
        "colab": {
          "base_uri": "https://localhost:8080/"
        },
        "id": "EnSICJB3SlJe",
        "outputId": "358de4f4-ee81-4aba-c535-c0137f94232d"
      },
      "execution_count": 22,
      "outputs": [
        {
          "output_type": "stream",
          "name": "stdout",
          "text": [
            "510\n",
            "510\n",
            "375\n"
          ]
        }
      ]
    },
    {
      "cell_type": "markdown",
      "source": [
        "##Tensor Chunk\n",
        "Now we have our tokenized tensor; we need to break it into chunks of no more than 510 tokens. We choose 510 rather than 512 to leave two places spare to add our [CLS] and [SEP] tokens.\n",
        "\n",
        "both our input IDs and attention mask tensors.\n",
        "\n",
        "We need to add padding to our tensor chunks to ensure they satisfy the 512 tensorlength required by BERT."
      ],
      "metadata": {
        "id": "x6l48TMPVoLd"
      }
    },
    {
      "cell_type": "code",
      "source": [
        "chunksize = 512\n",
        "\n",
        "input_id_chunks = list(tokens['input_ids'][0].split(chunksize - 2))\n",
        "mask_chunks = list(tokens['attention_mask'][0].split(chunksize - 2))\n",
        "\n",
        "for i in range(len(input_id_chunks)):\n",
        "    input_id_chunks[i] = torch.cat([\n",
        "        torch.tensor([101]), input_id_chunks[i], torch.tensor([102])\n",
        "    ])\n",
        "    mask_chunks[i] = torch.cat([\n",
        "        torch.tensor([1]), mask_chunks[i], torch.tensor([1])\n",
        "    ])\n",
        "\n",
        "    pad_len = chunksize - input_id_chunks[i].shape[0]\n",
        "    if pad_len > 0:\n",
        "        input_id_chunks[i] = torch.cat([\n",
        "            input_id_chunks[i], torch.Tensor([0] * pad_len)\n",
        "        ])\n",
        "        mask_chunks[i] = torch.cat([\n",
        "            mask_chunks[i], torch.Tensor([0] * pad_len)\n",
        "        ])\n",
        "\n",
        "for chunk in input_id_chunks:\n",
        "    print(chunk)"
      ],
      "metadata": {
        "colab": {
          "base_uri": "https://localhost:8080/"
        },
        "id": "9feYf6pUSp_c",
        "outputId": "cae4a37c-e73b-49fa-ff56-0ac03072c96b"
      },
      "execution_count": 23,
      "outputs": [
        {
          "output_type": "stream",
          "name": "stdout",
          "text": [
            "tensor([  101,  2166,  5427,  2003,  1037, 10142, 16306,  3085,  3206,  2090,\n",
            "         2048,  4243,  2119,  1997,  3183,  2024, 10142,  4591,  2000,  3206,\n",
            "         1012,  2009,  2003,  3568,  1010,  4072,  2008,  1996,  3408,  1998,\n",
            "         3785,  1997,  1996,  3820,  2442,  2022,  4848,  8231,  8832,  1999,\n",
            "         1037,  5450,  2008,  2052,  2191,  2009,  3154,  2008,  2119,  4243,\n",
            "         2000,  1996,  3206,  2024,  4748,  1011,  8909,  6633,  1045,  1012,\n",
            "         1041,  1012,  1010,  1997,  1996,  2168,  2568,  1012,  4748,  1011,\n",
            "         8909,  6633,  2965,  2008,  2119,  1996,  4243,  3305,  1996,  2168,\n",
            "         2518,  1999,  1996,  2168,  3168,  2030,  2024,  1997,  1996,  2168,\n",
            "         2568,  2006,  1996,  2168,  3395,  1012,  2045,  2442,  2022, 10465,\n",
            "         2030,  4748,  1011,  8909,  6633,  2090,  1996,  4243,  2000,  1996,\n",
            "         3206,  1012,  2023,  2003,  2825,  3024,  2035,  1996,  3408,  1998,\n",
            "         3785,  1010,  2916,  1998,  5704,  1011, 14310,  1998, 14422,  2024,\n",
            "         7919,  8832,  1999,  3408,  2029,  2064,  2022,  4415, 10009,  1999,\n",
            "         1037,  2457,  1997,  2375,  1012,  2090,  2048,  2529,  9552,  8811,\n",
            "         4223,  2965,  2019,  9920,  1012,  2021,  2004,  1996, 16021, 27595,\n",
            "         2003,  1037,  3423,  6180,  4709,  2000,  3206, 12064,  6594,  2090,\n",
            "         4243,  2000,  1996,  3206,  2003,  2025,  2825,  1998,  6516,  2045,\n",
            "         2003,  1037,  2342,  2005, 12653,  1012,  5427,  2003,  2036,  1037,\n",
            "         3206,  1997, 27917,  2204,  4752,  1998, 16348,  2069,  1999,  1996,\n",
            "         6802,  2925,  1012,  2009,  2003,  3568,  4072,  2008,  1996,  8170,\n",
            "         2015,  2081,  2011,  2119,  1996,  4243,  2323,  2022,  2404,  1999,\n",
            "         2304,  1998,  2317,  2005,  2925,  4431,  1012,  2151, 16341,  1010,\n",
            "         2097,  3993,  1998,  3430,  4618,  2191,  1996,  3206, 11675,  1012,\n",
            "         1996, 16021, 12165,  1010,  3568,  1010,  2038,  1037,  4611,  2000,\n",
            "        13520,  2035,  2008,  2002,  4282,  2055,  2370,  1010,  2010,  2740,\n",
            "         1010,  2010,  3361,  3570,  1999, 10739,  3980,  4838,  1999,  1996,\n",
            "         6378,  2433,  1998,  2060,  2019,  6895, 24435,  5491,  2029,  2089,\n",
            "         2022,  3223,  2011,  1996, 16021, 27595,  1012,  2287,  2003,  2019,\n",
            "         2590,  5387,  1999, 10561,  1996,  8559,  1997, 12882,  2114,  1037,\n",
            "         3343,  1012,  1996,  6254, 13946,  1996,  2287,  1010,  1045,  1012,\n",
            "         1041,  1012,  2287,  6947,  2442,  2022, 10539,  1998,  1996, 16021,\n",
            "        12165,  2038,  2000, 16617,  2004,  2000,  2049,  3606, 20938,  1012,\n",
            "         2512,  1011,  3115,  2287,  6947,  2015,  2024,  2216,  2029,  2024,\n",
            "        20172,  2625, 10539,  1998,  3568,  1996, 16021, 27595, 13385,  2068,\n",
            "         2007,  1037, 18392,  1997,  5474,  1012,  1999,  2060,  2616,  1996,\n",
            "        16021, 27595,  3138,  3056, 29361,  2077, 10564,  2107,  2287,  6947,\n",
            "         2015,  2004,  2345,  1012,  6947,  1997,  3318,  2003,  1996,  6254,\n",
            "         2089,  2468,  4072,  7188,  1996,  7680,  3818,  2003,  2200,  2152,\n",
            "         1012,  5373,  1037,  7680,  3818,  2029,  2003,  2698,  2000,  2809,\n",
            "         2335,  1997,  1996,  4161,  3318,  2003, 11701,  2005,  5427,  1012,\n",
            "         2021, 10340,  2079,  2272,  2000,  1996, 16021, 27595,  2043,  1996,\n",
            "         2124,  3120,  1997,  3318,  1997,  1996, 16599,  2099,  2003,  2172,\n",
            "         2625,  4102,  2000,  1996,  3815,  1997,  5427,  9059,  1012,  1037,\n",
            "         2326,  9111,  5373,  2515,  2025,  2227,  2023,  3291,  2004,  2010,\n",
            "         4216,  1997,  3318,  2024,  2310,  3089, 22749,  3468,  1012,  1999,\n",
            "         2553,  1997,  2449,  2111,  1010,  1996, 14155,  3318,  2003,  2012,\n",
            "         2335,  2172,  2625,  4102,  2000,  2054,  2003,  1037, 16166,  3318,\n",
            "         2005,  1996,  3815,  1997,  5427,  9059,  1012,  1999,  2107,  3572,\n",
            "         1996, 16021, 27595,  2012,  2335,  4455,  2005, 14155,  3318,  4171,\n",
            "         5651,  1010,  2030, 12443, 17907,  1521,  1055,  8196,  4385,  1012,\n",
            "         2107,   102])\n",
            "tensor([  101, 29361,  2024,  4072,  2000, 11027,  1996,  6061,  1997,  7191,\n",
            "        15559,  1012,  3343,  3206,  2003,  1996,  3343,  6254,  2003,  1037,\n",
            "         6851,  6254,  1998,  2009,  2003,  1996,  3350,  1997,  1996,  5427,\n",
            "         3206,  2029,  9704,  2035,  1996,  3408,  1998,  3785,  1997,  1996,\n",
            "         5427,  1012,  1996, 16021, 12165, 23311,  2025,  1996,  3343,  3206,\n",
            "         1010,  2021,  1996,  2157,  2000,  1996,  7680,  1997,  2769,  1998,\n",
            "         2049,  2925,  6959,  1012,  1996, 16021, 27595,  2006,  2049,  2112,\n",
            "        10659,  2000,  3477,  1037,  7680,  1997,  2769,  1010,  3024,  1997,\n",
            "         2607,  1996, 16021, 12165,  7906,  2049,  2112,  1997,  4872,  1997,\n",
            "         7079,  1996, 18932,  2015,  1997, 12882,  2004,  5115,  1012,  1996,\n",
            "         3653,  1011,  2572,  3468,  2000,  1996,  5427,  3206,  3084,  1996,\n",
            "         2682,  4861,  3154,  1998,  2163,  2008,  2023,  3343,  2003,  3843,\n",
            "         3395,  2000,  1996,  3785,  1998, 14310,  6267,  2006,  1996,  2067,\n",
            "         1997,  1996,  3343,  1012,  1996, 20380,  2015,  2872,  2006,  1996,\n",
            "         3343,  4618,  2036,  2022,  2112,  1997,  1996,  3343,  1998,  2009,\n",
            "         2036,  3084,  1037,  4431,  2000,  1996,  6378,  2433,  3038,  2008,\n",
            "         2008,  1996,  8635,  2445,  1999,  1996,  6378,  2433,  2024,  1996,\n",
            "         3978,  1997,  1996,  3206,  1012,  1996,  6134,  2029,  2003,  6267,\n",
            "         2006,  1996,  3343,  6254, 14847,  1996,  2436,  2029,  2038,  3843,\n",
            "         1996,  3343,  1012,  2009,  2163,  1996,  2171,  1997,  1996,  3343,\n",
            "        14528,  1010,  1996,  3058,  1997, 20561,  1997,  1996,  3343,  1010,\n",
            "         2019,  8720,  2193,  1997,  1996,  3343,  2170,  3343,  2193,  1012,\n",
            "         2023,  2193,  2003,  5186,  6179,  2005,  2437,  2151,  4431,  2000,\n",
            "         1996, 16021, 27595,  8800,  2000,  2023,  3343,  1012,  2023,  4618,\n",
            "         4468, 17044,  2015,  8536,  1012,  3841, 12879, 24108,  2854,  1521,\n",
            "         1055,  2171,  2003,  2036,  3855,  2247,  2007,  4769,  1012,  2009,\n",
            "         2003,  4072,  2000,  4638,  2008,  2009,  2003,  6149,  1998,  2151,\n",
            "         6707,  2323,  2022,  3202,  4197,  2041,  2005, 18140,  1012,  1037,\n",
            "         6707,  1999,  1996,  4769,  2089, 28616,  4305,  2890,  6593,  1996,\n",
            "        12882, 14444,  1998,  2151,  2060,  2925, 11061,  1012,  2009,  2036,\n",
            "         2163,  1996,  2171,  1997,  1996,  9773,  1998,  1996,  3058,  2039,\n",
            "         3406,  2029, 12882,  2038,  2000,  2022,  3825,  1012,  1996,  6134,\n",
            "         3632,  2006,  2000,  5254,  1010,  1996,  2828,  1997,  3343,  1010,\n",
            "         2006,  1996,  6230,  1997,  2029,  1010,  1996,  7680,  8916,  2003,\n",
            "         3477,  3085,  1998,  2000,  3183,  2009,  2003,  3477,  3085,  1012,\n",
            "         2009,  1997,  2607,  2036,  9704,  2043,  1998,  2129,  2146,  1996,\n",
            "        12882,  2003,  2000,  2022,  3825,  1012,  1996,  3343,  6254,  2003,\n",
            "         2772,  2011,  2019,  2880,  1997,  1996, 16021, 27595,  1998,  6052,\n",
            "         1998, 20834,  2004,  2566,  1996,  9347,  1997,  1996, 11359,  2552,\n",
            "         2000,  2191,  2009,  1037,  3294, 10142, 16306,  3085,  6254,  1012,\n",
            "         2019,  8775,  1997,  1037,  3343,  1999,  7927,  1997,  2178,  2711,\n",
            "         2030,  5145,  2064,  2022,  3466,  2098,  2011,  2019, 20380,  2006,\n",
            "         1996,  3343,  1012,  2128,  1011,  8775,  2064,  2036,  2022,  2589,\n",
            "         2011,  1037,  4745, 20380,  2006,  1996,  2168,  3343,  1012,  2004,\n",
            "         1037,  6488,  2003,  8073,  8014,  2349,  2000,  2019,  8775,  1010,\n",
            "         2044,  2128,  1011,  8775,  1010,  2009,  2003,  4072,  2000,  2191,\n",
            "         1037,  4840,  6488,  1012,  1999, 24473,  3343,  1037,  3343,  6254,\n",
            "         2003,  1037,  7070,  6254,  1998,  2064,  2022,  2109,  2005, 14344,\n",
            "         4385,  1012,  3279,  1997,  3343,  6254,  2515,  2025, 14689,  4747,\n",
            "         3726,  1996, 16021, 27595,  2013,  1996, 14000,  1997,  7909,  1997,\n",
            "         3343, 10951,  2043,  1996,  4366, 18653,  1012,  1996,  4366,  2064,\n",
            "         2022,   102])\n",
            "tensor([  101.,  3876.,  2006.,  1996.,  4366., 11390.,  1010.,  6519., 24014.,\n",
            "         2075.,  2019., 27427.,  6633., 22758.,  5416., 10776.,  2007.,  2028.,\n",
            "         2469.,  3723.,  1012.,  2065.,  1037.,  3343.,  2003., 20868.,  2890.,\n",
            "         6767.,  3540.,  6321.,  2439.,  1010.,  1037., 24473.,  3343.,  2064.,\n",
            "         2022.,  3843.,  1010.,  2044.,  2206.,  1037.,  3056.,  7709.,  2066.,\n",
            "         1996., 16021., 27595.,  2938.,  2483., 14213.,  2993.,  1997.,  1996.,\n",
            "         6214.,  2877.,  2000.,  3279.,  1998.,  2108.,  2061.,  8510.,  1996.,\n",
            "        16021., 27595., 16818.,  2588.,  2019., 15147.,  1999.,  1037.,  2739.,\n",
            "         3259.,  1010.,  2537.,  1997.,  2019., 27427.,  6633., 22758.,  5416.,\n",
            "         1998.,  7909.,  1997.,  3343.,  7547.,  5571.,  1998.,  2045.,  2044.,\n",
            "         1037., 24473.,  3343.,  2003.,  3843.,  1012.,  3227.,  6488.,  2003.,\n",
            "         2081.,  2012.,  1996.,  2051.,  1997.,  2635.,  1037.,  3343.,  1012.,\n",
            "         1999.,  2553.,  2009.,  2003.,  2025.,  2589.,  1010.,  2009.,  2003.,\n",
            "         2825.,  2000.,  2191.,  6488.,  3525.,  2011.,  2019., 20380.,  2006.,\n",
            "         1996.,  3343.,  1012.,  2009.,  2003.,  2036.,  2825.,  2000.,  2689.,\n",
            "         1037.,  6488.,  3525.,  2011.,  2019., 20380.,  1012.,  2044.,  3510.,\n",
            "         1010.,  2107.,  2689.,  1999.,  6488.,  2003.,  5373.,  3223.,  1012.,\n",
            "         2166.,  5427.,  2108.,  1037., 10142., 16306.,  3085.,  3206.,  1010.,\n",
            "         3791.,  2000.,  2022.,  8832.,  2007.,  4751.,  1997.,  1996.,  2916.,\n",
            "         1998., 14422.,  1997.,  1996.,  4243.,  2000.,  1996.,  3206.,  1012.,\n",
            "         6378.,  2433., 25073.,  3561.,  1999.,  1998.,  2772.,  2011.,  1996.,\n",
            "        16599.,  2099.,  2003.,  1996.,  2034.,  6254.,  2029.,  3596.,  1996.,\n",
            "         3978.,  1997.,  1996.,  3206.,  1012.,  2296.,  2051.,  1010.,  1996.,\n",
            "        16021., 12165., 12778.,  1996., 12882.,  1010.,  2002.,  8267.,  1037.,\n",
            "        12882., 24306.,  1012.,  1996., 12882.,  3791.,  2000.,  2022.,  3825.,\n",
            "         1999.,  2051.,  1010.,  2512.,  1011.,  7909.,  1997., 12882.,  5260.,\n",
            "         2000.,  3343.,  1011., 10876.,  2229.,  1012.,  2128.,  1011., 16021.,\n",
            "        12259.,  3672.,  1997.,  1996.,  3104.,  2003.,  2170.,  6308.,  1997.,\n",
            "         1996.,  3343.,  1012.,  2065.,  1996.,  3343.,  2003.,  2025., 10570.,\n",
            "         1010.,  1996.,  3343.,  2064.,  2468.,  1037.,  3825.,  2039.,  3343.,\n",
            "         2005.,  1037.,  4359.,  7680.,  8916.,  2104.,  3056.,  3785.,  1012.,\n",
            "         1996.,  3343.,  6254.,  9704.,  1999.,  6987.,  2035.,  1996.,  2916.,\n",
            "         1998., 14422.,  1997.,  1996.,  3343., 14528.,  1012.,  1996.,  4005.,\n",
            "         2003.,  9449.,  2000.,  4863.,  1996.,  2536.,  8910.,  1997.,  1996.,\n",
            "         3343.,  2000.,  1996.,  3343., 14528.,  1012.,  1996.,  2773.,  8613.,\n",
            "         1999.,  1996.,  3343.,  6254.,  2024.,  1997.,  4087.,  3267.,  1998.,\n",
            "         6516.,  1996.,  2342.,  2005.,  9990.,  1012.,  2065.,  2045.,  2024.,\n",
            "         3056., 20380.,  2015.,  2006.,  1996.,  3343.,  1010.,  2008.,  2342.,\n",
            "         2000.,  2022.,  4541.,  2205.,  1012.,  2009.,  3791.,  2000.,  2022.,\n",
            "         4541.,  2008.,  1996.,  3343.,  2003.,  1037.,  7070.,  6254.,  1998.,\n",
            "         3791.,  2000.,  2022.,  2921.,  1999.,  3647.,  9968.,  1998.,  1999.,\n",
            "         1996.,  3716.,  1997.,  1996.,  2485.,  9064.,  1012.,   102.,     0.,\n",
            "            0.,     0.,     0.,     0.,     0.,     0.,     0.,     0.,     0.,\n",
            "            0.,     0.,     0.,     0.,     0.,     0.,     0.,     0.,     0.,\n",
            "            0.,     0.,     0.,     0.,     0.,     0.,     0.,     0.,     0.,\n",
            "            0.,     0.,     0.,     0.,     0.,     0.,     0.,     0.,     0.,\n",
            "            0.,     0.,     0.,     0.,     0.,     0.,     0.,     0.,     0.,\n",
            "            0.,     0.,     0.,     0.,     0.,     0.,     0.,     0.,     0.,\n",
            "            0.,     0.,     0.,     0.,     0.,     0.,     0.,     0.,     0.,\n",
            "            0.,     0.,     0.,     0.,     0.,     0.,     0.,     0.,     0.,\n",
            "            0.,     0.,     0.,     0.,     0.,     0.,     0.,     0.,     0.,\n",
            "            0.,     0.,     0.,     0.,     0.,     0.,     0.,     0.,     0.,\n",
            "            0.,     0.,     0.,     0.,     0.,     0.,     0.,     0.,     0.,\n",
            "            0.,     0.,     0.,     0.,     0.,     0.,     0.,     0.,     0.,\n",
            "            0.,     0.,     0.,     0.,     0.,     0.,     0.,     0.,     0.,\n",
            "            0.,     0.,     0.,     0.,     0.,     0.,     0.,     0.,     0.,\n",
            "            0.,     0.,     0.,     0.,     0.,     0.,     0.,     0.])\n"
          ]
        }
      ]
    },
    {
      "cell_type": "code",
      "source": [
        "for tensor in range(len(input_id_chunks)):\n",
        "  ans = answer_question(user_question, ' '.join(tokenizer.convert_ids_to_tokens(input_id_chunks[tensor])))\n",
        "  print(ans)"
      ],
      "metadata": {
        "colab": {
          "base_uri": "https://localhost:8080/"
        },
        "id": "Tygq3XhoSteF",
        "outputId": "5a3c334d-56de-4db4-8908-01173f9a8cdb"
      },
      "execution_count": 24,
      "outputs": [
        {
          "output_type": "stream",
          "name": "stderr",
          "text": [
            "Be aware, overflowing tokens are not returned for the setting you have chosen, i.e. sequence pairs with the 'longest_first' truncation strategy. So the returned list will always be empty even if some tokens have been removed.\n"
          ]
        },
        {
          "output_type": "stream",
          "name": "stdout",
          "text": [
            "Query has 512 tokens.\n",
            "\n"
          ]
        },
        {
          "output_type": "stream",
          "name": "stderr",
          "text": [
            "Be aware, overflowing tokens are not returned for the setting you have chosen, i.e. sequence pairs with the 'longest_first' truncation strategy. So the returned list will always be empty even if some tokens have been removed.\n"
          ]
        },
        {
          "output_type": "stream",
          "name": "stdout",
          "text": [
            "('[SEP]', 1.9390349388122559)\n",
            "Query has 512 tokens.\n",
            "\n"
          ]
        },
        {
          "output_type": "stream",
          "name": "stderr",
          "text": [
            "Be aware, overflowing tokens are not returned for the setting you have chosen, i.e. sequence pairs with the 'longest_first' truncation strategy. So the returned list will always be empty even if some tokens have been removed.\n"
          ]
        },
        {
          "output_type": "stream",
          "name": "stdout",
          "text": [
            "('[CLS] when can a duplicate policy be issued ? [SEP] [CLS] precautions are necessary to eliminate the possibility of moral hazard . policy contract is the policy document is a detailed document and it is the evidence of the insurance contract which mentions all the terms and conditions of the insurance . the ins # # ur ##ed buys not the policy contract , but the right to the sum of money and its future delivery . the ins # # ur ##er on its part promises to pay a sum of money , provided of course the ins # # ur ##ed keeps its part of promise of paying the installment # # s of premium as scheduled . the pre - am # # b ##le to the insurance contract makes the above statement clear and states that this policy is issued subject to the conditions and privileges printed on the back of the policy . the endorsement # # s placed on the policy shall also be part of the policy and it also makes a reference to the proposal form saying that that the statements given in the proposal form are the basis of the contract . the schedule which is printed on the policy document identifies the office which has issued the policy . it states the name of the policy # # holder , the date of commencement of the policy , an identification number of the policy called policy number . this number is extremely useful for making any reference to the ins # # ur ##er relating to this policy . this shall avoid needles # # s delay . ben # # e ##f # # ic ##ia # # ry ’ s name is also mentioned along with address . it is necessary to check that it is correct and any mistake should be immediately pointed out for correction . a mistake in the address may mis # # di # # re # # ct the premium notices and any other future correspondence . it also states the name of the nominee and the date up # # to which premium has to be paid . the schedule goes on to mention , the type of policy , on the happening of which , the sum assured is pay # # able and to whom it is pay # # able . it of course also mentions when and how long the premium is to be paid . the policy document is signed by an official of the ins # # ur ##er and dated and stamped as per the provision of the stamp act to make it a completely legally enforce # # able document . an assignment of a policy in favour of another person or institution can be effect # # ed by an endorsement on the policy . re - assignment can also be done by a subsequent endorsement on the same policy . as a nomination is automatically cancelled due to an assignment , after [SEP]', 2.484128952026367)\n",
            "Query has 512 tokens.\n",
            "\n",
            "('if a policy is ir # # re # # vo # # ca # # b ##ly lost', 6.044693470001221)\n"
          ]
        }
      ]
    },
    {
      "cell_type": "markdown",
      "source": [
        "##expand_split_sentences Function"
      ],
      "metadata": {
        "id": "BVDTgKa9q3Ia"
      }
    },
    {
      "cell_type": "code",
      "source": [
        "def expand_split_sentences(pdf_txt):\n",
        "  import nltk\n",
        "  nltk.download('punkt')\n",
        "  new_chunks = nltk.sent_tokenize(pdf_txt)\n",
        "  length = len(new_chunks)\n",
        "  #for i in range(length):\n",
        "    #tmp_token = tokenizer.encode(new_chunks[i])\n",
        "    #print('The input has a total of {:} tokens.'.format(len(tmp_token)))\n",
        "\n",
        "  new_df = [];\n",
        "  for i in range(length):\n",
        "    paragraph = \"\"\n",
        "    for j in range(i, length):\n",
        "      #tmp_str = paragraph + new_chunks[j]\n",
        "      tmp_token = tokenizer.encode(paragraph + new_chunks[j])\n",
        "      length_token = len(tmp_token)\n",
        "      if length_token < 510:\n",
        "        #print(length_token)\n",
        "        paragraph = paragraph + new_chunks[j]\n",
        "      else:\n",
        "        #print(length_token)\n",
        "        break;\n",
        "    #print(len(tokenizer.encode(paragraph)))\n",
        "    new_df.append(paragraph)\n",
        "  return new_df\n",
        "  #for i in new_df:\n",
        "    #print(i)"
      ],
      "metadata": {
        "id": "DZ5lglefSy1X"
      },
      "execution_count": 25,
      "outputs": []
    },
    {
      "cell_type": "markdown",
      "source": [
        "###Example"
      ],
      "metadata": {
        "id": "JdxXaTqcq8Cs"
      }
    },
    {
      "cell_type": "code",
      "source": [
        "fdi = \"\"\"Make in India is an initiative which was launched on September 25, 2014, to facilitate investment, foster innovation, building best in class infrastructure, and making India a hub for manufacturing, design, and innovation. The development of a robust manufacturing sector continues to be a key priority of the Indian Government. It was one of the first 'Vocal for Local' initiatives that exposed India's manufacturing domain to the world. The sector has the potential to not only take economic growth to a higher trajectory but also to provide employment to a large pool of our young labour force.\n",
        "Make in India initiative has made significant achievements and presently focuses on 27 sectors under Make in India 2.0. Department for Promotion of Industry and Internal Trade is coordinating action plans for manufacturing sectors, while Department of Commerce is coordinating service sectors.\n",
        "The Government of India is making continuous efforts under Investment Facilitation for implementation of Make in India action plans to identify potential investors. Support is being provided to Indian Missions abroad and State Governments for organising events, summits, road-shows and other promotional activities to attract investment in the country under the Make in India banner. Investment Outreach activities are being carried out for enhancing International co-operation for promoting FDI and improve Ease of Doing Business in the country.\n",
        "India has registered its highest ever annual FDI Inflow of US\n",
        " 45.15 billion in 2014-2015. In the last six financial years (2014-20), India has received FDI inflow worth US\n",
        " 681.87 billion).\n",
        "Steps taken to improve Ease of Doing Business include simplification and rationalization of existing processes. As a result of the measures taken to improve the country’s investment climate, India jumped to 63rd place in World Bank’s Ease of Doing Business ranking as per World Bank’s Doing Business Report (DBR) 2020. This is driven by reforms in the areas of Starting a Business, Paying Taxes, Trading Across Borders, and Resolving Insolvency.\n",
        "Recently, Government has taken various steps in addition to ongoing schemes to boost domestic and foreign investments in India. These include the National Infrastructure Pipeline, Reduction in Corporate Tax, easing liquidity problems of NBFCs and Banks, policy measures to boost domestic manufacturing. Government of India has also promoted domestic manufacturing of goods through public procurement orders, Phased Manufacturing Programme (PMP), Schemes for Production Linked Incentives of various Ministries.\n",
        "Further, with a view to support, facilitate and provide investor friendly ecosystem to investors investing in India, the Union Cabinet on 03rd June, 2020 has approved constitution of an Empowered Group of Secretaries (EGoS), and also Project Development Cells (PDCs) in all concerned Ministries/ Departments to fast-track investments in coordination between the Central Government and State Governments, and thereby grow the pipeline of investible projects in India to increase domestic investments and FDI inflow.\n",
        "The activities under the Make in India initiative are being undertaken by several Central Government Ministries/ Departments and various State Governments. Further, Ministries formulate action plans, programmes, schemes and policies for the sectors being dealt by them. This Department does not maintain information on such formulations by the line ministries.\"\"\"\n"
      ],
      "metadata": {
        "id": "O1VSIHNsS5S4"
      },
      "execution_count": 26,
      "outputs": []
    },
    {
      "cell_type": "markdown",
      "source": [
        "####Question"
      ],
      "metadata": {
        "id": "jvN-wsl0rAAu"
      }
    },
    {
      "cell_type": "code",
      "source": [
        "question_fdi = \"What were the various steps taken by the government to boost domestic and foreign investment in India?\""
      ],
      "metadata": {
        "id": "GK0kaqY1S_dR"
      },
      "execution_count": 27,
      "outputs": []
    },
    {
      "cell_type": "markdown",
      "source": [
        "####Result"
      ],
      "metadata": {
        "id": "Jm0kefogrEpf"
      }
    },
    {
      "cell_type": "code",
      "source": [
        "max_score = 0;\n",
        "final_answer = \"\"\n",
        "new_df = expand_split_sentences(fdi)\n",
        "for new_context in new_df:\n",
        "  #new_paragrapgh = new_paragrapgh + answer_question(question, answer_text)\n",
        "  ans, score = answer_question(question_fdi, new_context)\n",
        "  if score > max_score:\n",
        "    max_score = score\n",
        "    final_answer = ans\n",
        "print(final_answer)\n",
        "print(max_score)"
      ],
      "metadata": {
        "colab": {
          "base_uri": "https://localhost:8080/"
        },
        "id": "jbgosu86TBUM",
        "outputId": "05a95216-ece0-47c9-fd59-963a31893b65"
      },
      "execution_count": 28,
      "outputs": [
        {
          "output_type": "stream",
          "name": "stderr",
          "text": [
            "[nltk_data] Downloading package punkt to /root/nltk_data...\n",
            "[nltk_data]   Package punkt is already up-to-date!\n"
          ]
        },
        {
          "output_type": "stream",
          "name": "stdout",
          "text": [
            "Query has 498 tokens.\n",
            "\n",
            "Query has 457 tokens.\n",
            "\n",
            "Query has 439 tokens.\n",
            "\n",
            "Query has 510 tokens.\n",
            "\n"
          ]
        },
        {
          "output_type": "stream",
          "name": "stderr",
          "text": [
            "Be aware, overflowing tokens are not returned for the setting you have chosen, i.e. sequence pairs with the 'longest_first' truncation strategy. So the returned list will always be empty even if some tokens have been removed.\n"
          ]
        },
        {
          "output_type": "stream",
          "name": "stdout",
          "text": [
            "Query has 512 tokens.\n",
            "\n"
          ]
        },
        {
          "output_type": "stream",
          "name": "stderr",
          "text": [
            "Be aware, overflowing tokens are not returned for the setting you have chosen, i.e. sequence pairs with the 'longest_first' truncation strategy. So the returned list will always be empty even if some tokens have been removed.\n"
          ]
        },
        {
          "output_type": "stream",
          "name": "stdout",
          "text": [
            "Query has 512 tokens.\n",
            "\n",
            "Query has 492 tokens.\n",
            "\n",
            "Query has 465 tokens.\n",
            "\n",
            "Query has 427 tokens.\n",
            "\n",
            "Query has 400 tokens.\n",
            "\n",
            "Query has 378 tokens.\n",
            "\n",
            "Query has 350 tokens.\n",
            "\n",
            "Query has 331 tokens.\n",
            "\n",
            "Query has 284 tokens.\n",
            "\n",
            "Query has 257 tokens.\n",
            "\n",
            "Query has 236 tokens.\n",
            "\n",
            "Query has 206 tokens.\n",
            "\n",
            "Query has 174 tokens.\n",
            "\n",
            "Query has 80 tokens.\n",
            "\n",
            "Query has 57 tokens.\n",
            "\n",
            "Query has 36 tokens.\n",
            "\n",
            "national infrastructure pipeline , reduction in corporate tax , easing liquid ##ity problems of n ##bf ##cs and banks , policy measures to boost domestic manufacturing\n",
            "6.5698466300964355\n"
          ]
        }
      ]
    }
  ]
}